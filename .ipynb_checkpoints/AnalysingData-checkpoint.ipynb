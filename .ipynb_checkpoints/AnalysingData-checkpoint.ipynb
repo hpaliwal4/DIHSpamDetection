{
 "cells": [
  {
   "cell_type": "code",
   "execution_count": 2,
   "metadata": {},
   "outputs": [],
   "source": [
    "## Loading all the Dicts from Json files\n",
    "\n",
    "import json\n",
    "f = open('data/json_data/botspam_followers_instances.json','r')\n",
    "follower_instances_botspam = json.load(f)\n",
    "f.close()\n",
    "f = open('data/json_data/sitehostingspam_followers_instances.json','r')\n",
    "follower_instances_sitehosting = json.load(f)\n",
    "f.close()\n",
    "f = open('data/json_data/spam_followers_instances.json','r')\n",
    "follower_instances_spam = json.load(f)\n",
    "f.close()"
   ]
  },
  {
   "cell_type": "code",
   "execution_count": 3,
   "metadata": {},
   "outputs": [],
   "source": [
    "all_instances_followers = {}\n",
    "all_instances_followers.update(follower_instances_sitehosting)\n",
    "all_instances_followers.update(follower_instances_spam)"
   ]
  },
  {
   "cell_type": "code",
   "execution_count": 119,
   "metadata": {},
   "outputs": [
    {
     "name": "stdout",
     "output_type": "stream",
     "text": [
      "LuciusMontalto\n",
      "EldridgeOldfie\n",
      "LindsayBoyter\n",
      "JamisonGrell\n",
      "Lashawnxlizs\n",
      "Catinahgcua\n",
      "Lavernegtplo\n",
      "Phungytbhr\n",
      "Tishmzawo\n",
      "Clementinenmzvt\n",
      "Christiatsci\n",
      "Tracyitqqg\n",
      "Nicoletterlwoi\n",
      "TGJNOgSsEPPN2KC\n",
      "kuu_cat\n",
      "therunnner\n",
      "PGLists\n",
      "EdaEjewcj2018\n",
      "mariluon\n",
      "yanailinova\n",
      "a_logo\n",
      "anokonda30\n",
      "uwasa13\n"
     ]
    }
   ],
   "source": [
    "import csv\n",
    "import time\n",
    "import tweepy\n",
    "##danveer twitter key\n",
    "\n",
    "auth = tweepy.OAuthHandler(\"7kqHnqMbfdEuqaEArutYWJXnc\",\"cVfxGeB4zhGlVbH6IOCFbPbT6OjPZJWirpr2dPFiSukZKRB7xj\")\n",
    "auth.set_access_token(\"1006577385632743424-lYR67hW7iRS9lWwlgtNbFjUlDn1bC9\",\"U2Dij7g1oap5f21gR0j0UqNcAjLGiNedatdYjDE1VoMTl\")\n",
    "\n",
    "api = tweepy.API(auth)\n",
    "parent_node_instances = {}\n",
    "parents = []\n",
    "for key in all_instances_followers:\n",
    "    print(key)\n",
    "    parent_node_instances[key] = api.get_user(key)._json\n",
    "    parents.append(key)"
   ]
  },
  {
   "cell_type": "code",
   "execution_count": 20,
   "metadata": {},
   "outputs": [
    {
     "name": "stdout",
     "output_type": "stream",
     "text": [
      "LuciusMontalto 12.666666666666666 5538\n",
      "EldridgeOldfie 10.11111111111111 6326\n",
      "LindsayBoyter 18.0 6128\n",
      "JamisonGrell 16.22222222222222 6298\n",
      "Lashawnxlizs 8.7 2244\n",
      "Catinahgcua 0.0 2097\n",
      "Lavernegtplo 0.2857142857142857 4160\n",
      "Phungytbhr 0.4444444444444444 4177\n",
      "Tishmzawo 0.0 3143\n",
      "Clementinenmzvt 0.0 2066\n",
      "Christiatsci 0.0 2354\n",
      "Tracyitqqg 0.0 2286\n",
      "Nicoletterlwoi 0.0 2287\n"
     ]
    },
    {
     "ename": "ZeroDivisionError",
     "evalue": "division by zero",
     "output_type": "error",
     "traceback": [
      "\u001b[0;31m---------------------------------------------------------------------------\u001b[0m",
      "\u001b[0;31mZeroDivisionError\u001b[0m                         Traceback (most recent call last)",
      "\u001b[0;32m<ipython-input-20-6ac266532b39>\u001b[0m in \u001b[0;36m<module>\u001b[0;34m()\u001b[0m\n\u001b[1;32m      1\u001b[0m \u001b[0;32mfor\u001b[0m \u001b[0mnode\u001b[0m \u001b[0;32min\u001b[0m \u001b[0mparent_node_instances\u001b[0m\u001b[0;34m:\u001b[0m\u001b[0;34m\u001b[0m\u001b[0m\n\u001b[0;32m----> 2\u001b[0;31m     \u001b[0mprint\u001b[0m\u001b[0;34m(\u001b[0m\u001b[0mnode\u001b[0m\u001b[0;34m,\u001b[0m\u001b[0mparent_node_instances\u001b[0m\u001b[0;34m[\u001b[0m\u001b[0mnode\u001b[0m\u001b[0;34m]\u001b[0m\u001b[0;34m[\u001b[0m\u001b[0;34m\"followers_count\"\u001b[0m\u001b[0;34m]\u001b[0m\u001b[0;34m/\u001b[0m\u001b[0mparent_node_instances\u001b[0m\u001b[0;34m[\u001b[0m\u001b[0mnode\u001b[0m\u001b[0;34m]\u001b[0m\u001b[0;34m[\u001b[0m\u001b[0;34m\"friends_count\"\u001b[0m\u001b[0;34m]\u001b[0m\u001b[0;34m,\u001b[0m\u001b[0mparent_node_instances\u001b[0m\u001b[0;34m[\u001b[0m\u001b[0mnode\u001b[0m\u001b[0;34m]\u001b[0m\u001b[0;34m[\u001b[0m\u001b[0;34m\"statuses_count\"\u001b[0m\u001b[0;34m]\u001b[0m\u001b[0;34m)\u001b[0m\u001b[0;34m\u001b[0m\u001b[0m\n\u001b[0m",
      "\u001b[0;31mZeroDivisionError\u001b[0m: division by zero"
     ]
    }
   ],
   "source": [
    "for node in parent_node_instances:\n",
    "    print(node,parent_node_instances[node][\"followers_count\"]/parent_node_instances[node][\"friends_count\"],parent_node_instances[node][\"statuses_count\"])"
   ]
  },
  {
   "cell_type": "code",
   "execution_count": 1,
   "metadata": {},
   "outputs": [
    {
     "ename": "NameError",
     "evalue": "name 'LuciusMontalto' is not defined",
     "output_type": "error",
     "traceback": [
      "\u001b[0;31m---------------------------------------------------------------------------\u001b[0m",
      "\u001b[0;31mNameError\u001b[0m                                 Traceback (most recent call last)",
      "\u001b[0;32m<ipython-input-1-81bff66f612c>\u001b[0m in \u001b[0;36m<module>\u001b[0;34m()\u001b[0m\n\u001b[1;32m      1\u001b[0m \u001b[0;31m#1\u001b[0m\u001b[0;34m\u001b[0m\u001b[0;34m\u001b[0m\u001b[0m\n\u001b[0;32m----> 2\u001b[0;31m \u001b[0mLuciusMontalto\u001b[0m\u001b[0;34m\u001b[0m\u001b[0m\n\u001b[0m\u001b[1;32m      3\u001b[0m \u001b[0mEldridgeOldfie\u001b[0m\u001b[0;34m\u001b[0m\u001b[0m\n\u001b[1;32m      4\u001b[0m \u001b[0mLindsayBoyter\u001b[0m\u001b[0;34m\u001b[0m\u001b[0m\n\u001b[1;32m      5\u001b[0m \u001b[0;31m#2\u001b[0m\u001b[0;34m\u001b[0m\u001b[0;34m\u001b[0m\u001b[0m\n",
      "\u001b[0;31mNameError\u001b[0m: name 'LuciusMontalto' is not defined"
     ]
    }
   ],
   "source": [
    "#1\n",
    "LuciusMontalto\n",
    "EldridgeOldfie\n",
    "LindsayBoyter\n",
    "#2\n",
    "JamisonGrell\n",
    "Lashawnxlizs\n",
    "Catinahgcua\n",
    "Lavernegtplo\n",
    "Phungytbhr\n",
    "Tishmzawo\n",
    "Clementinenmzvt\n",
    "Christiatsci\n",
    "Tracyitqqg\n",
    "Nicoletterlwoi\n",
    "#3\n",
    "TGJNOgSsEPPN2KC\n",
    "kuu_cat\n",
    "therunnner\n",
    "PGLists\n",
    "EdaEjewcj2018\n",
    "#4\n",
    "mariluon\n",
    "yanailinova\n",
    "a_logo\n",
    "anokonda30\n",
    "uwasa13"
   ]
  },
  {
   "cell_type": "code",
   "execution_count": 120,
   "metadata": {},
   "outputs": [],
   "source": [
    "important_nodes = {}\n",
    "\n",
    "\n",
    "## karanveer\n",
    "\n",
    "\n",
    "f = open('data/JamisonGrell.txt','r')\n",
    "spam = []\n",
    "for line in f:\n",
    "    spam.extend(line.split())\n",
    "important_nodes['JamisonGrell'] = spam\n",
    "spam1 = []\n",
    "f = open('data/Lashawnxlizs.txt','r')\n",
    "for line in f:\n",
    "    if '1' in line.split()[1]:\n",
    "        spam1.append(line.split()[0])        \n",
    "important_nodes['Lashawnxlizs'] = spam1\n",
    "spam1 = []\n",
    "f = open('data/Phungytbhr.txt','r')\n",
    "for line in f:\n",
    "    spam1.extend(line.split())\n",
    "important_nodes['Phungytbhr'] = spam1\n",
    "\n",
    "\n",
    "spammers = []\n",
    "## Danveer\n",
    "f = open('data/twittter node file.txt','r')\n",
    "\n",
    "for line in f:\n",
    "    if '1' in line.split(\"/\")[-1].split()[1]:\n",
    "        spammers.append(line.split(\"/\")[-1].split()[0])"
   ]
  },
  {
   "cell_type": "code",
   "execution_count": 80,
   "metadata": {},
   "outputs": [
    {
     "data": {
      "text/plain": [
       "NodeDataView({'LuciusMontalto': {'val': 1}, 'EldridgeOldfie': {'val': 1}, 'LindsayBoyter': {'val': 1}, 'JamisonGrell': {'val': 1}, 'Lashawnxlizs': {'val': 1}, 'Catinahgcua': {'val': 1}, 'Lavernegtplo': {'val': 1}, 'Phungytbhr': {'val': 1}, 'Tishmzawo': {'val': 1}, 'Clementinenmzvt': {'val': 1}, 'Christiatsci': {'val': 1}, 'Tracyitqqg': {'val': 1}, 'Nicoletterlwoi': {'val': 1}, 'TGJNOgSsEPPN2KC': {'val': 1}, 'kuu_cat': {'val': 1}, 'therunnner': {'val': 1}, 'PGLists': {'val': 1}, 'EdaEjewcj2018': {'val': 1}, 'mariluon': {'val': 1}, 'yanailinova': {'val': 1}, 'a_logo': {'val': 1}, 'anokonda30': {'val': 1}, 'uwasa13': {'val': 1}})"
      ]
     },
     "execution_count": 80,
     "metadata": {},
     "output_type": "execute_result"
    }
   ],
   "source": []
  },
  {
   "cell_type": "code",
   "execution_count": 121,
   "metadata": {},
   "outputs": [
    {
     "name": "stdout",
     "output_type": "stream",
     "text": [
      "481 606\n"
     ]
    },
    {
     "data": {
      "text/plain": [
       "NodeDataView({'LuciusMontalto': {'val': 1}, 'EldridgeOldfie': {'val': 1}, 'LindsayBoyter': {'val': 1}, 'JamisonGrell': {'val': 1}, 'Lashawnxlizs': {'val': 1}, 'Catinahgcua': {'val': 1}, 'Lavernegtplo': {'val': 1}, 'Phungytbhr': {'val': 1}, 'Tishmzawo': {'val': 1}, 'Clementinenmzvt': {'val': 1}, 'Christiatsci': {'val': 1}, 'Tracyitqqg': {'val': 1}, 'Nicoletterlwoi': {'val': 1}, 'TGJNOgSsEPPN2KC': {'val': 1}, 'kuu_cat': {'val': 1}, 'therunnner': {'val': 1}, 'PGLists': {'val': 1}, 'EdaEjewcj2018': {'val': 1}, 'mariluon': {'val': 1}, 'yanailinova': {'val': 1}, 'a_logo': {'val': 1}, 'anokonda30': {'val': 1}, 'uwasa13': {'val': 1}, 'voxhosting': {'val': 1}, 'candytzfrick': {'val': 1}, 'Dite_lavostra': {'val': 1}, 'MaxBateman': {'val': 0}, 'JMsharing': {'val': 0}, 'leafbrendtran': {'val': 0}, 'Kdfgvduhs': {'val': 1}, 'FMfirst': {'val': 1}, 'JacePattonseven': {'val': 0}, 'CheapTexDivorce': {'val': 0}, 'Afytvuvugi': {'val': 1}, 'ChaeDechico3274': {'val': 1}, 'kamenzahariev': {'val': 1}, 'BartS11': {'val': 1}, 'ExtremeCouponCA': {'val': 1}, 'yasmin6817': {'val': 1}, 'zaida361': {'val': 0}, 'd3517': {'val': 1}, 'g481o': {'val': 1}, 'Ahukhkm': {'val': 1}, 'JoomlaMambo': {'val': 1}, 'Altnrgy': {'val': 1}, 'Aouiajsdd': {'val': 1}, '10_spot': {'val': 1}, 'roseestar': {'val': 1}, 'vertexcoders': {'val': 1}, 'Cassyugl': {'val': 1}, 'GianniRapod': {'val': 1}, 'Fideliazzica': {'val': 1}, 'ahostdotnet': {'val': 1}, 'shanjo002': {'val': 1}, 'bangiekind': {'val': 1}, 'Annm0': {'val': 1}, 'Earthakblmp': {'val': 1}, 'TopReviewsToday': {'val': 1}, 'Cindybhl87': {'val': 1}, 'Irishwls': {'val': 1}, 'ahostnet': {'val': 1}, 'a3host': {'val': 1}, 'Zadanjyxb': {'val': 1}, 'Take2seconds': {'val': 0}, 'songscpippin': {'val': 0}, 'Kemberlyeujbp': {'val': 1}, 'EusebiaEledgePX': {'val': 1}, 'Dustifl36': {'val': 1}, 'Remediosrx84': {'val': 1}, 'Richellemd99': {'val': 1}, 'Starlals08': {'val': 1}, 'ArionHayes25': {'val': 1}, 'KallieMurff': {'val': 1}, 'Shanekagn33': {'val': 1}, 'Nettieju97': {'val': 1}, 'Flofs94': {'val': 1}, 'arabclothes': {'val': 0}, 'Mayelm21': {'val': 1}, 'Aricawc44': {'val': 1}, 'Merilynpunm': {'val': 1}, 'SteveJohnson48': {'val': 0}, 'SkinCare999': {'val': 0}, 'Donnahj88': {'val': 1}, 'vinumenons': {'val': 0}, 'Birthdaysstuff': {'val': 1}, 'Assuntaes54': {'val': 1}, 'Theresiawi97': {'val': 1}, 'Desirezf93': {'val': 1}, 'Lovenm94': {'val': 1}, 'sillyscrewy': {'val': 0}, 'rune77': {'val': 0}, 'jospehclanton22': {'val': 1}, 'Anthonyhh83': {'val': 1}, 'Teresamp97': {'val': 1}, 'thisisjamesnew': {'val': 0}, 'MatthewRinirt17': {'val': 1}, 'FranklynFlaglir': {'val': 1}, 'MiltonGrannis10': {'val': 1}, 'ur41cv': {'val': 1}, 'ValedaChan': {'val': 1}, 'activatedair': {'val': 1}, 'skincareline': {'val': 1}, 'AmiAhuja': {'val': 0}, 'makereamone': {'val': 1}, 'hhairstyles': {'val': 1}, 'AdriannaHun': {'val': 1}, 'nikeyaya': {'val': 1}, 'fcosmetics': {'val': 1}, 'beautytip33': {'val': 1}, 'CINDY_LEE_0312': {'val': 1}, 'whealths': {'val': 1}, 'MEGUMI7064': {'val': 0}, 'JessieKilbourn': {'val': 1}, 'toastic': {'val': 1}, 'tannings': {'val': 1}, 'skincaretips18': {'val': 0}, 'aliciabrittney': {'val': 1}, 'LupeERamirez': {'val': 1}, 'Ur_Skin': {'val': 1}, 'pray4chicago': {'val': 1}, 'chulazamm': {'val': 1}, 'n18estea': {'val': 1}, 'USDezire': {'val': 0}, 'pobcios': {'val': 1}, 'nailsalon4u': {'val': 1}, 'mariahaircare': {'val': 1}, 'goang21': {'val': 1}, 'Lucid_Dream_INT': {'val': 0}, 'gracefacecare': {'val': 1}, 'beautycaretrend': {'val': 1}, 'ninabeautyskin': {'val': 1}, 'Keitha794': {'val': 1}, 'Alma11982': {'val': 1}, 'roamking': {'val': 1}, 'Nobuko8608': {'val': 1}, 'Health8999': {'val': 1}, 'TedMakovsky': {'val': 0}, 'LuvinAndLaffin': {'val': 0}, 'Qjopkjofkdf': {'val': 1}, 'Lchshxxsdefsdf': {'val': 1}, 'sahara283': {'val': 1}, 'Pfuhduhfss': {'val': 1}, 'Vfnsjdnseaw': {'val': 0}, 'yrewerm': {'val': 1}, 'lewisjob': {'val': 0}, 'SageSchuellmo': {'val': 0}, 'CBDGmarketing': {'val': 0}, 'WhoIsMikeGordon': {'val': 0}, 'tough_go33': {'val': 0}, 'Griselda169': {'val': 0}, 'olinawu': {'val': 1}, 'Amieegixc': {'val': 0}, 'Sanabyqa': {'val': 0}, 'Fridgadget': {'val': 0}, 'TheTrender1': {'val': 0}, 'Sherrilrkmit': {'val': 0}, 'Florentinakav': {'val': 1}, 'cinderellaxadev': {'val': 0}, 'masherd': {'val': 0}, 'Estelldxglf': {'val': 0}, 'risumadenkore': {'val': 0}, 'Gwendolinenxwo': {'val': 0}, 'husnwk': {'val': 0}, 'ifscltrading': {'val': 0}, 'PhillisSchuchBO': {'val': 0}, 'China_MBtopics': {'val': 0}, 'mediasmad': {'val': 0}, 'RichardCold': {'val': 0}, 'dalewenchin': {'val': 0}, 'Muiutrmm': {'val': 0}, 'nhtdvlod': {'val': 0}, 'aourtty': {'val': 0}, 'Kendatydtx': {'val': 0}, '8neil': {'val': 0}, 'ProForecasts_DT': {'val': 0}, 'MtileniRR': {'val': 0}, 'SoaringStocks9': {'val': 0}, 'Johnnieqjmib': {'val': 0}, 'InkForaCure': {'val': 0}, 'Larhondaxjqpq': {'val': 0}, 'LookOnEarth': {'val': 0}, 'Mandy_Zurich': {'val': 0}, 'what_investment': {'val': 0}, 'Elisefajeh': {'val': 0}, 'ggaayy8': {'val': 0}, 'ewallstreeter': {'val': 0}, 'afakimayz': {'val': 0}, 'AnonymousStock': {'val': 0}, 'lenatrading': {'val': 0}, 'pandianews': {'val': 0}, 'iamQAMARRAZA': {'val': 0}, 'UpdatedReview': {'val': 0}, 'Leidakohzs': {'val': 0}, 'lostitfast': {'val': 0}, 'FX_Coaching': {'val': 0}, 'eds_mf': {'val': 0}, 'akitoad': {'val': 0}, 'stockla123': {'val': 0}, 'markparris_': {'val': 0}, 'OnlineStockForu': {'val': 0}, 'Lashunda_Modrak': {'val': 0}, 'otiliarnjgrundy': {'val': 0}, 'valenecdaye': {'val': 0}, 'joshuaskdiego': {'val': 0}, 'autopartzones': {'val': 0}, 'CLAREHAPPINESS': {'val': 0}, 'steannjuanfekom': {'val': 0}, 'JarotLucky': {'val': 0}, 'KevenETriNet': {'val': 0}, 'kca164': {'val': 0}, 'bradcarmichael1': {'val': 0}, 'avictgbd': {'val': 0}, 'ralictg24': {'val': 0}, 'TopDomainDeal': {'val': 0}, 'namesplace': {'val': 0}, '_followU': {'val': 0}, 'Texas_Rex': {'val': 0}, 'SomerwoodDesign': {'val': 0}, 'ojaksi': {'val': 0}, 'freehosting17': {'val': 0}, 'Irenaqk63': {'val': 0}, 'Elidaf5': {'val': 0}, 'alisa_tseng': {'val': 0}, 'VillagePizzaCon': {'val': 0}, 'Silvanaqnhie': {'val': 0}, 'Florindawrffn': {'val': 0}, 'austinscradles': {'val': 0}, 'OnlyoneSassyRox': {'val': 0}, 'chickkinf': {'val': 0}, 'calenlac': {'val': 0}, 'tuhosting': {'val': 0}, 'Joanaoegod': {'val': 0}, 'egervacio': {'val': 0}, 'guminternb': {'val': 0}, 'Ashleybpxh719': {'val': 0}, 'Tawannaknu': {'val': 0}, 'Concetta917': {'val': 0}, 'Maximaodqyo': {'val': 0}, 'clizownf': {'val': 0}, 'GET__BUSY': {'val': 0}, 'Ceolatfhjp': {'val': 0}, 'FairyAmtowerLPO': {'val': 0}, 'StephaneJamalVN': {'val': 0}, 'dhughesinc': {'val': 0}, 'Silvambale': {'val': 0}, 'Maisiemiuhd': {'val': 0}, 'Arieljsjsu': {'val': 0}, 'baddr56': {'val': 0}, 'Striker30': {'val': 0}, 'AMCDirectory': {'val': 0}, 'Estherh616': {'val': 0}, 'Samiragtvhx': {'val': 0}, 'Letaalsog': {'val': 0}, 'Daynahybsu': {'val': 0}, 'Commodity111': {'val': 0}, 'AlphaOculus': {'val': 0}, 'vopstyk': {'val': 0}, 'Vickige45': {'val': 0}, 'bradccarmichael': {'val': 0}, 'Kenisonka': {'val': 0}, 'qpoik65': {'val': 0}, 'DominosDenver': {'val': 0}, 'Shiaujie': {'val': 0}, 'VeldaRajala7584': {'val': 0}, 'hmctampabay': {'val': 0}, 'Shailifruit': {'val': 0}, 'Aldfk': {'val': 0}, 'howbuyinsurance': {'val': 0}, 'Maileoivsr': {'val': 0}, 'Kfegoo': {'val': 0}, 'osbornynwwl4': {'val': 0}, 'jeiclk': {'val': 0}, 'khllhp': {'val': 0}, 'kpxxjj': {'val': 0}, 'TrusteeFraud': {'val': 0}, '23345soulc': {'val': 0}, 'netsugobakoono': {'val': 0}, 'Stepanieeyr': {'val': 0}, 'debidebt': {'val': 0}, 'jraldic': {'val': 0}, '12white9': {'val': 0}, 'Jessenli96': {'val': 0}, 'bginnettes': {'val': 0}, 'writerdebt': {'val': 0}, 'annonceswin': {'val': 0}, 'Jonathan_Alford': {'val': 0}, 'alcarinm': {'val': 0}, 'buffymi': {'val': 0}, 'justinswvtron': {'val': 0}, 'icemiy': {'val': 0}, 'babefia': {'val': 0}, 'karzanmehdi': {'val': 0}, 'Jase_H1': {'val': 0}, 'pk520pk': {'val': 0}, 'Denisefqoqg': {'val': 0}, 'Duryeajer': {'val': 0}, '2itsukaia': {'val': 0}, 'ivkaoskeef': {'val': 0}, 'Linehang': {'val': 0}, 'staceyshoemake': {'val': 0}, 'ProvidenciaBiad': {'val': 0}, 'JerbiHamma': {'val': 0}, 'Rossie777': {'val': 0}, 'HandT_ACCNTG': {'val': 0}, 'Warrenxtz02': {'val': 0}, 'kimberliemgrove': {'val': 0}, 'latarshardcback': {'val': 0}, 'Cortneyvolsh': {'val': 0}, 'RalfReinberg': {'val': 0}, 'PslFinance': {'val': 0}, 'moyha41': {'val': 0}, 'Hildegardwegiz': {'val': 0}, 'alleoncapital': {'val': 0}, 'buckswiz': {'val': 0}, 'PersonalLoans13': {'val': 0}, 'SusanaSaviZWVK': {'val': 0}, 'per_Finance': {'val': 0}, 'Latson8523': {'val': 0}, 'edwardchen020': {'val': 0}, 'Cassandrabum': {'val': 0}, 'c7459396': {'val': 0}, 'CANDY_AUTORI': {'val': 0}, 'Ima433': {'val': 0}, 'Kia826': {'val': 0}, 'MaxBoruff': {'val': 0}, 'MathewSerio': {'val': 0}, 'OttawaREI': {'val': 0}, '4biblos': {'val': 0}, 'candelariagigmi': {'val': 0}, 'bestcarsins': {'val': 0}, 'fastmoney7412': {'val': 0}, 'moneysurveys0': {'val': 0}, 'workonline68': {'val': 0}, 'PNsutry1': {'val': 0}, 'WilfredZimbizi': {'val': 0}, 'Denean_Lewis': {'val': 0}, 'BellaLunasBB': {'val': 0}, 'ADSI_NACIONAL': {'val': 0}, 'Sexbuz': {'val': 0}, 'Zulaassxz': {'val': 0}, 'Bonitacayfs': {'val': 0}, 'amazonsjewelry': {'val': 1}, 'ZuccMarketing': {'val': 0}, 'Bransonyam': {'val': 1}, 'Aricaeka': {'val': 1}, 'Coleentsuy': {'val': 1}, 'Laruekuidm': {'val': 0}, 'Arethanbx': {'val': 0}, 'Dottieoqdy': {'val': 0}, 'Merrilltbbd': {'val': 1}, 'tsonenanfiecap': {'val': 0}, 'almagestc': {'val': 0}, 'Azziefsjrs': {'val': 0}, 'JacobDebeau': {'val': 0}, 'Danelle048': {'val': 0}, 'FollowerOfTwitt': {'val': 0}, 'Waltercclg713': {'val': 0}, 'esthersamsu': {'val': 0}, 'Xiomara53': {'val': 0}, 'Lashandra64': {'val': 0}, 'Keturah838': {'val': 0}, 'Kennethbce88': {'val': 0}, 'Shaynemz59': {'val': 0}, 'cnsangyu': {'val': 0}, 'bustcash': {'val': 0}, 'Esterbc36': {'val': 0}, 'Meldafm77': {'val': 0}, 'Estrellacy34': {'val': 0}, 'Mairevv05': {'val': 0}, 'Stellanl78': {'val': 0}, 'sagittarius126': {'val': 0}, 'graystonetrader': {'val': 0}, 'TaraWalkersDrea': {'val': 0}, 'HealthLiveLife': {'val': 0}, 'jasuce': {'val': 0}, 'nuevaskincare': {'val': 0}, 'ChenCheney': {'val': 0}, 'WarrahLu': {'val': 0}, 'PandoraMin1': {'val': 0}, 'EdevaKuan': {'val': 0}, 'mekerin5': {'val': 0}, 'smartanycall': {'val': 0}, 'chenhsiuju': {'val': 0}, 'cncutegirl': {'val': 0}, 'Greendot_Market': {'val': 0}, 'JLynnTaylor55': {'val': 0}, 'adiscuss3': {'val': 1}, 'Isidragt94': {'val': 0}, 'jillobqlovelace': {'val': 0}, 'Siuyhhyu': {'val': 0}, 'Lorrinehxqga': {'val': 0}, 'salonspa8': {'val': 1}, '0503megumi': {'val': 0}, 'STEVE_CHEN_0520': {'val': 0}, 'P4rdFred': {'val': 1}, 'MillBoa': {'val': 0}, 'SergTru5t': {'val': 0}, 'ur41ck': {'val': 0}, 'erinhlad': {'val': 0}, 'OffshoreReggae': {'val': 0}, 'yonekoshikadash': {'val': 0}, 'Coretta_Bverger': {'val': 0}, 'Krystin063': {'val': 0}, 'joinssa': {'val': 1}, 'boicca': {'val': 1}, 'dnadyer': {'val': 1}, 'Healthknowledg': {'val': 1}, 'l22773310': {'val': 0}, 'ginsenginfo': {'val': 0}, 'chener158': {'val': 0}, 'Shareecncfn': {'val': 0}, 'Jamavdyyk': {'val': 0}, 'Willena25': {'val': 1}, 'Lashell317': {'val': 1}, 'Suzan420': {'val': 0}, 'Simona454': {'val': 0}, 'jansasea': {'val': 0}, 'MableNondorf': {'val': 0}, 'SkinDeepIL': {'val': 0}, 'Ms_Stylistik': {'val': 0}, 'jigokuhanley288': {'val': 0}, 'SnFWebdesigns': {'val': 0}, 'Nfvdnsiesa': {'val': 1}, 'Cloud_Security_': {'val': 0}, 'HamariDuniya': {'val': 0}, 'SortisBooks': {'val': 0}, 'VisaluswithJohn': {'val': 0}, 'JacobsonJohn': {'val': 0}, 'acheive1': {'val': 0}, 'murieltbramlett': {'val': 0}, 'sophialmonroe': {'val': 0}, 'yoshiepbrashear': {'val': 0}, 'octaviatbsasser': {'val': 0}, 'regenamkhgladde': {'val': 0}, 'shanaekimunos': {'val': 0}, 'natalyabdoss': {'val': 0}, 'melinawrrey': {'val': 0}, 'adriannamrasmus': {'val': 0}, 'ammiecikent': {'val': 0}, 'graciaumei': {'val': 0}, 'simonajfweisenh': {'val': 0}, 'johnnietspaeth': {'val': 0}, 'ginetteppeiffer': {'val': 0}, 'gaylenecmundell': {'val': 0}, 'blancheenmcgary': {'val': 0}, 'donettehdavies': {'val': 0}, 'nadiapyjumper': {'val': 0}, 'mintavwdlightfo': {'val': 0}, 'eloisevqbrownin': {'val': 0}, 'cherrieqrockwel': {'val': 0}, 'ossiehrhmapes': {'val': 0}, 'eliataethomas': {'val': 0}, 'madelenetcarval': {'val': 0}, 'aleshiaodemory': {'val': 0}, 'yulandatwmrepp': {'val': 0}, 'Advkfcmkdp': {'val': 1}, 'bettyrmunson': {'val': 0}, 'barbarailodeitz': {'val': 0}, 'barabaraickmaul': {'val': 0}, 'clarindaifrbond': {'val': 0}, 'annaleemomalek': {'val': 0}, 'Ideas4WEB': {'val': 0}, 'Lahomarwl': {'val': 1}, 'SofiaMcentee972': {'val': 1}, 'LeahQECcAI': {'val': 1}, 'AprilYk': {'val': 1}, 'Aiedwcc': {'val': 1}, 'moredigitalsoft': {'val': 1}, 'rosenima': {'val': 1}, 'rmsfdg': {'val': 1}, 'DNN_Hosting_': {'val': 0}, 'DotNetNukeWeb': {'val': 0}, 'DNNWebHosting': {'val': 0}, 'JoomlaDownload': {'val': 0}, 'achievereffect': {'val': 0}, '1stPageGoogleTM': {'val': 1}, 'Annabellnzo': {'val': 1}, 'WordPressDojo': {'val': 0}, 'CMSDojo': {'val': 0}, 'StevieTreso': {'val': 1}, 'Delphaxes': {'val': 0}, 'Midjam': {'val': 0}, 'cpaneltarhely': {'val': 0}, 'ceclarr': {'val': 0}, 'Fernedrjn': {'val': 0}, 'Jennievvvqo': {'val': 0}, 'ackermannoctqoc': {'val': 0}, 'techtyms': {'val': 1}, 'Tonyahjkkg': {'val': 1}, 'Remote_Business': {'val': 0}, 'findarticless': {'val': 0}, 'Wynellmdd': {'val': 0}, 'AftonRemy1871': {'val': 1}, 'elrithlord': {'val': 1}, 'JewelWhittet973': {'val': 1}, 'TrinidadDelagol': {'val': 0}, 'Kolbykse': {'val': 0}, 'Kimberleeefgn': {'val': 0}, 'AmericanJetsAA': {'val': 0}, 'YourMagicBody': {'val': 0}, 'fabricbizlink': {'val': 0}, 'ClaireHammond': {'val': 0}, 'jpnmenopause': {'val': 1}, 'ClothesForSale': {'val': 1}})"
      ]
     },
     "execution_count": 121,
     "metadata": {},
     "output_type": "execute_result"
    }
   ],
   "source": [
    "import networkx as nx\n",
    "G = nx.Graph()\n",
    "## Parent Nodes\n",
    "for node in parent_node_instances:\n",
    "    G.add_node(node,val=1)\n",
    "G.nodes(data=True)\n",
    "##Now add all Followers to the graph\n",
    "c = 0\n",
    "c1 = 0\n",
    "for key in follower_instances_sitehosting:\n",
    "    for key1 in follower_instances_sitehosting[key]:\n",
    "        node = follower_instances_sitehosting[key][key1]['screen_name']\n",
    "        if not G.has_node(node):\n",
    "            c+=1\n",
    "            G.add_node(node,val=0)\n",
    "        G.add_edge(key,node)\n",
    "        c1+=1\n",
    "print(c,c1)\n",
    "# c represents no of nodes which is first time created\n",
    "# c1 represent total no of edges has been created\n",
    "## now time to mark spam by making val = 1\n",
    "for spammer in spammers:\n",
    "    if G.has_node(spammer):\n",
    "        G.node[spammer]['val'] = 1\n",
    "    else:\n",
    "        print('spammers array',spammer)\n",
    "## Find out spammer in Karanveer's Data, above one was for danveer (Very Careless!!!!Phewww)\n",
    "\n",
    "for key in important_nodes:\n",
    "    for spammer in important_nodes[key]:\n",
    "        if G.has_node(spammer):\n",
    "            G.node[spammer]['val'] = 1\n",
    "        else:\n",
    "            print('important nodes array',spammer)\n",
    "G.nodes(data=True)"
   ]
  },
  {
   "cell_type": "code",
   "execution_count": null,
   "metadata": {},
   "outputs": [],
   "source": []
  },
  {
   "cell_type": "code",
   "execution_count": 122,
   "metadata": {},
   "outputs": [
    {
     "name": "stdout",
     "output_type": "stream",
     "text": [
      "density 0.004780838776862634\n",
      "Triadic closure: 0\n"
     ]
    }
   ],
   "source": [
    "density = nx.density(G)\n",
    "print(\"density\",density)\n",
    "triadic_closure = nx.transitivity(G)\n",
    "print(\"Triadic closure:\", triadic_closure)"
   ]
  },
  {
   "cell_type": "code",
   "execution_count": 134,
   "metadata": {},
   "outputs": [
    {
     "name": "stdout",
     "output_type": "stream",
     "text": [
      "LuciusMontalto {'val': 1, 'degree': 114}\n",
      "EldridgeOldfie {'val': 1, 'degree': 91}\n",
      "LindsayBoyter {'val': 1, 'degree': 162}\n",
      "JamisonGrell {'val': 1, 'degree': 146}\n",
      "Lashawnxlizs {'val': 1, 'degree': 87}\n",
      "Lavernegtplo {'val': 1, 'degree': 2}\n",
      "Phungytbhr {'val': 1, 'degree': 4}\n",
      "voxhosting {'val': 1, 'degree': 4}\n",
      "candytzfrick {'val': 1, 'degree': 2}\n",
      "Kdfgvduhs {'val': 1, 'degree': 5}\n",
      "FMfirst {'val': 1, 'degree': 3}\n",
      "Afytvuvugi {'val': 1, 'degree': 4}\n",
      "ChaeDechico3274 {'val': 1, 'degree': 4}\n",
      "ExtremeCouponCA {'val': 1, 'degree': 4}\n",
      "yasmin6817 {'val': 1, 'degree': 4}\n",
      "d3517 {'val': 1, 'degree': 4}\n",
      "g481o {'val': 1, 'degree': 4}\n",
      "Ahukhkm {'val': 1, 'degree': 5}\n",
      "JoomlaMambo {'val': 1, 'degree': 4}\n",
      "Aouiajsdd {'val': 1, 'degree': 4}\n",
      "10_spot {'val': 1, 'degree': 2}\n",
      "roseestar {'val': 1, 'degree': 4}\n",
      "vertexcoders {'val': 1, 'degree': 2}\n",
      "GianniRapod {'val': 1, 'degree': 5}\n",
      "ahostdotnet {'val': 1, 'degree': 4}\n",
      "Annm0 {'val': 1, 'degree': 4}\n",
      "TopReviewsToday {'val': 1, 'degree': 3}\n",
      "ahostnet {'val': 1, 'degree': 4}\n",
      "a3host {'val': 1, 'degree': 4}\n",
      "EusebiaEledgePX {'val': 1, 'degree': 4}\n",
      "Shanekagn33 {'val': 1, 'degree': 2}\n",
      "Theresiawi97 {'val': 1, 'degree': 2}\n",
      "ValedaChan {'val': 1, 'degree': 2}\n",
      "activatedair {'val': 1, 'degree': 2}\n",
      "skincareline {'val': 1, 'degree': 2}\n",
      "makereamone {'val': 1, 'degree': 2}\n",
      "hhairstyles {'val': 1, 'degree': 2}\n",
      "AdriannaHun {'val': 1, 'degree': 2}\n",
      "beautytip33 {'val': 1, 'degree': 2}\n",
      "whealths {'val': 1, 'degree': 2}\n",
      "JessieKilbourn {'val': 1, 'degree': 2}\n",
      "tannings {'val': 1, 'degree': 2}\n",
      "n18estea {'val': 1, 'degree': 2}\n",
      "goang21 {'val': 1, 'degree': 2}\n",
      "gracefacecare {'val': 1, 'degree': 2}\n",
      "beautycaretrend {'val': 1, 'degree': 2}\n",
      "ninabeautyskin {'val': 1, 'degree': 2}\n",
      "Alma11982 {'val': 1, 'degree': 2}\n",
      "Nobuko8608 {'val': 1, 'degree': 2}\n",
      "Qjopkjofkdf {'val': 1, 'degree': 4}\n",
      "Lchshxxsdefsdf {'val': 1, 'degree': 2}\n",
      "sahara283 {'val': 1, 'degree': 2}\n",
      "Pfuhduhfss {'val': 1, 'degree': 3}\n",
      "yrewerm {'val': 1, 'degree': 3}\n",
      "olinawu {'val': 1, 'degree': 4}\n",
      "Florentinakav {'val': 1, 'degree': 2}\n"
     ]
    }
   ],
   "source": [
    "degree_dict = dict(G.degree(G.nodes()))\n",
    "nx.set_node_attributes(G, degree_dict, 'degree')\n",
    "next_extraction_set = []\n",
    "for key in G.nodes:\n",
    "    if G.node[key]['degree'] > 1 and G.node[key]['val'] == 1:\n",
    "        print(key,G.node[key])\n",
    "        if not key in parents:\n",
    "            next_extraction_set.append(key)"
   ]
  },
  {
   "cell_type": "code",
   "execution_count": 140,
   "metadata": {},
   "outputs": [
    {
     "name": "stdout",
     "output_type": "stream",
     "text": [
      "['voxhosting', 'candytzfrick', 'Kdfgvduhs', 'FMfirst', 'Afytvuvugi', 'ChaeDechico3274', 'ExtremeCouponCA', 'yasmin6817', 'd3517', 'g481o', 'Ahukhkm', 'JoomlaMambo', 'Aouiajsdd', '10_spot', 'roseestar', 'vertexcoders', 'GianniRapod', 'ahostdotnet', 'Annm0', 'TopReviewsToday', 'ahostnet', 'a3host', 'EusebiaEledgePX', 'Shanekagn33', 'Theresiawi97', 'ValedaChan', 'activatedair', 'skincareline', 'makereamone', 'hhairstyles', 'AdriannaHun', 'beautytip33', 'whealths', 'JessieKilbourn', 'tannings', 'n18estea', 'goang21', 'gracefacecare', 'beautycaretrend', 'ninabeautyskin', 'Alma11982', 'Nobuko8608', 'Qjopkjofkdf', 'Lchshxxsdefsdf', 'sahara283', 'Pfuhduhfss', 'yrewerm', 'olinawu', 'Florentinakav']\n"
     ]
    }
   ],
   "source": [
    "thefile = open('data/next_ext.txt','w')\n",
    "for item in next_extraction_set:\n",
    "  thefile.write(item+'\\n')\n",
    "## Marking the Parent Nodes\n",
    "## Now Extracting Followers of those which are having val = 1 and degree > 1\n",
    "print(next_extraction_set)"
   ]
  },
  {
   "cell_type": "code",
   "execution_count": null,
   "metadata": {},
   "outputs": [],
   "source": []
  }
 ],
 "metadata": {
  "kernelspec": {
   "display_name": "Python 3",
   "language": "python",
   "name": "python3"
  },
  "language_info": {
   "codemirror_mode": {
    "name": "ipython",
    "version": 3
   },
   "file_extension": ".py",
   "mimetype": "text/x-python",
   "name": "python",
   "nbconvert_exporter": "python",
   "pygments_lexer": "ipython3",
   "version": "3.6.3"
  }
 },
 "nbformat": 4,
 "nbformat_minor": 2
}
