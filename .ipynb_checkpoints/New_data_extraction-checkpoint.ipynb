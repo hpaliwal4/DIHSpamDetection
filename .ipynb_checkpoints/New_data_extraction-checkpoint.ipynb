{
 "cells": [
  {
   "cell_type": "code",
   "execution_count": 11,
   "metadata": {},
   "outputs": [
    {
     "name": "stdout",
     "output_type": "stream",
     "text": [
      "LuciusMontalto\n",
      "followings done LuciusMontalto\n",
      "9\n",
      "followers done LuciusMontalto\n",
      "114\n",
      "EldridgeOldfie\n",
      "followings done EldridgeOldfie\n",
      "9\n",
      "followers done EldridgeOldfie\n",
      "91\n",
      "LindsayBoyter\n",
      "followings done LindsayBoyter\n",
      "9\n",
      "followers done LindsayBoyter\n",
      "162\n",
      "JamisonGrell\n",
      "followings done JamisonGrell\n",
      "9\n",
      "followers done JamisonGrell\n",
      "146\n",
      "Lashawnxlizs\n",
      "followings done Lashawnxlizs\n",
      "10\n",
      "followers done Lashawnxlizs\n",
      "87\n",
      "Catinahgcua\n",
      "followings done Catinahgcua\n",
      "9\n",
      "Lavernegtplo\n",
      "followings done Lavernegtplo\n",
      "7\n",
      "followers done Lavernegtplo\n",
      "2\n",
      "Phungytbhr\n",
      "followings done Phungytbhr\n",
      "9\n",
      "followers done Phungytbhr\n",
      "4\n",
      "Tishmzawo\n",
      "followings done Tishmzawo\n",
      "1\n",
      "Clementinenmzvt\n",
      "followings done Clementinenmzvt\n",
      "9\n",
      "Christiatsci\n",
      "followings done Christiatsci\n",
      "8\n",
      "Tracyitqqg\n",
      "followings done Tracyitqqg\n",
      "10\n",
      "Nicoletterlwoi\n",
      "followings done Nicoletterlwoi\n",
      "7\n"
     ]
    }
   ],
   "source": [
    "import csv\n",
    "import time\n",
    "import tweepy\n",
    "##danveer twitter key\n",
    "\n",
    "auth = tweepy.OAuthHandler(\"7kqHnqMbfdEuqaEArutYWJXnc\",\"cVfxGeB4zhGlVbH6IOCFbPbT6OjPZJWirpr2dPFiSukZKRB7xj\")\n",
    "auth.set_access_token(\"1006577385632743424-lYR67hW7iRS9lWwlgtNbFjUlDn1bC9\",\"U2Dij7g1oap5f21gR0j0UqNcAjLGiNedatdYjDE1VoMTl\")\n",
    "\n",
    "api = tweepy.API(auth)\n",
    "site_hosting_spam_strs =['LuciusMontalto',\n",
    "                         'EldridgeOldfie',\n",
    "                         'LindsayBoyter',\n",
    "                         'JamisonGrell',\n",
    "                         'Lashawnxlizs',\n",
    "                         # Weak cases\n",
    "                         'Catinahgcua',\n",
    "                         'Lavernegtplo',\n",
    "                         'Phungytbhr',\n",
    "                         'Tishmzawo',\n",
    "                         'Clementinenmzvt',\n",
    "                         'Christiatsci',\n",
    "                         'Tracyitqqg',\n",
    "                         'Nicoletterlwoi']\n",
    "followings = {}\n",
    "followers = {}\n",
    "for scrn_name in site_hosting_spam_strs:\n",
    "    user = api.get_user(scrn_name)\n",
    "    print(user.screen_name)\n",
    "    followings[scrn_name] = []\n",
    "    for page in tweepy.Cursor(api.friends_ids, screen_name=scrn_name).pages():\n",
    "        followings[scrn_name].extend(page)\n",
    "        time.sleep(60)\n",
    "        print('followings done',scrn_name)\n",
    "        print(len(page))\n",
    "    \n",
    "    followers[scrn_name] = []\n",
    "    for page in tweepy.Cursor(api.followers_ids, screen_name=scrn_name).pages():\n",
    "        followers[scrn_name].extend(page)\n",
    "        time.sleep(60)\n",
    "        print('followers done',scrn_name)\n",
    "        print(len(page))"
   ]
  },
  {
   "cell_type": "raw",
   "metadata": {},
   "source": [
    "import json\n",
    "j = json.dumps(followings)\n",
    "f = open('pickle_data/sitehostingspam_followings.json','w')\n",
    "f.write(j)\n",
    "f.close()\n",
    "j = json.dumps(followers)\n",
    "f = open('pickle_data/sitehostingspam_followers.json','w')\n",
    "f.write(j)\n",
    "f.close()"
   ]
  },
  {
   "cell_type": "code",
   "execution_count": 3,
   "metadata": {},
   "outputs": [
    {
     "ename": "FileNotFoundError",
     "evalue": "[Errno 2] No such file or directory: 'pickle_data/sitehostingspam_followings.json'",
     "output_type": "error",
     "traceback": [
      "\u001b[0;31m---------------------------------------------------------------------------\u001b[0m",
      "\u001b[0;31mFileNotFoundError\u001b[0m                         Traceback (most recent call last)",
      "\u001b[0;32m<ipython-input-3-dd9a57e770f3>\u001b[0m in \u001b[0;36m<module>\u001b[0;34m()\u001b[0m\n\u001b[1;32m      1\u001b[0m \u001b[0;32mimport\u001b[0m \u001b[0mjson\u001b[0m\u001b[0;34m\u001b[0m\u001b[0m\n\u001b[0;32m----> 2\u001b[0;31m \u001b[0mf\u001b[0m \u001b[0;34m=\u001b[0m \u001b[0mopen\u001b[0m\u001b[0;34m(\u001b[0m\u001b[0;34m'pickle_data/sitehostingspam_followings.json'\u001b[0m\u001b[0;34m,\u001b[0m\u001b[0;34m'w'\u001b[0m\u001b[0;34m)\u001b[0m\u001b[0;34m\u001b[0m\u001b[0m\n\u001b[0m\u001b[1;32m      3\u001b[0m \u001b[0mfollowings\u001b[0m \u001b[0;34m=\u001b[0m \u001b[0mjson\u001b[0m\u001b[0;34m.\u001b[0m\u001b[0mload\u001b[0m\u001b[0;34m(\u001b[0m\u001b[0mf\u001b[0m\u001b[0;34m)\u001b[0m\u001b[0;34m\u001b[0m\u001b[0m\n\u001b[1;32m      4\u001b[0m \u001b[0mf\u001b[0m\u001b[0;34m.\u001b[0m\u001b[0mclose\u001b[0m\u001b[0;34m(\u001b[0m\u001b[0;34m)\u001b[0m\u001b[0;34m\u001b[0m\u001b[0m\n\u001b[1;32m      5\u001b[0m \u001b[0mf\u001b[0m \u001b[0;34m=\u001b[0m \u001b[0mopen\u001b[0m\u001b[0;34m(\u001b[0m\u001b[0;34m'pickle_data/sitehostingspam_followers.json'\u001b[0m\u001b[0;34m,\u001b[0m\u001b[0;34m'w'\u001b[0m\u001b[0;34m)\u001b[0m\u001b[0;34m\u001b[0m\u001b[0m\n",
      "\u001b[0;31mFileNotFoundError\u001b[0m: [Errno 2] No such file or directory: 'pickle_data/sitehostingspam_followings.json'"
     ]
    }
   ],
   "source": [
    "import json\n",
    "f = open('data/json_data/sitehostingspam_followings.json','w')\n",
    "followings = json.load(f)\n",
    "f.close()\n",
    "f = open('data/json_data/sitehostingspam_followers.json','w')\n",
    "followers = json.load(f)\n",
    "f.close()"
   ]
  },
  {
   "cell_type": "code",
   "execution_count": 2,
   "metadata": {},
   "outputs": [
    {
     "ename": "NameError",
     "evalue": "name 'followers' is not defined",
     "output_type": "error",
     "traceback": [
      "\u001b[0;31m---------------------------------------------------------------------------\u001b[0m",
      "\u001b[0;31mNameError\u001b[0m                                 Traceback (most recent call last)",
      "\u001b[0;32m<ipython-input-2-2bf309202840>\u001b[0m in \u001b[0;36m<module>\u001b[0;34m()\u001b[0m\n\u001b[1;32m      1\u001b[0m \u001b[0mfollowers_instances\u001b[0m \u001b[0;34m=\u001b[0m \u001b[0;34m{\u001b[0m\u001b[0;34m}\u001b[0m\u001b[0;34m\u001b[0m\u001b[0m\n\u001b[1;32m      2\u001b[0m \u001b[0;34m\u001b[0m\u001b[0m\n\u001b[0;32m----> 3\u001b[0;31m \u001b[0;32mfor\u001b[0m \u001b[0mkey\u001b[0m \u001b[0;32min\u001b[0m \u001b[0mfollowers\u001b[0m\u001b[0;34m:\u001b[0m\u001b[0;34m\u001b[0m\u001b[0m\n\u001b[0m\u001b[1;32m      4\u001b[0m     \u001b[0mvalue\u001b[0m \u001b[0;34m=\u001b[0m \u001b[0mfollowers\u001b[0m\u001b[0;34m[\u001b[0m\u001b[0mkey\u001b[0m\u001b[0;34m]\u001b[0m\u001b[0;34m\u001b[0m\u001b[0m\n\u001b[1;32m      5\u001b[0m     \u001b[0mfollowers_instances\u001b[0m\u001b[0;34m[\u001b[0m\u001b[0mkey\u001b[0m\u001b[0;34m]\u001b[0m \u001b[0;34m=\u001b[0m \u001b[0;34m{\u001b[0m\u001b[0;34m}\u001b[0m\u001b[0;34m\u001b[0m\u001b[0m\n",
      "\u001b[0;31mNameError\u001b[0m: name 'followers' is not defined"
     ]
    }
   ],
   "source": [
    "followers_instances = {}\n",
    "\n",
    "for key in followers:\n",
    "    value = followers[key]\n",
    "    followers_instances[key] = {}\n",
    "    for follower in value:\n",
    "        followers_instances[key][follower] = api.get_user(follower)._json"
   ]
  },
  {
   "cell_type": "code",
   "execution_count": null,
   "metadata": {},
   "outputs": [],
   "source": []
  }
 ],
 "metadata": {
  "kernelspec": {
   "display_name": "Python 3",
   "language": "python",
   "name": "python3"
  },
  "language_info": {
   "codemirror_mode": {
    "name": "ipython",
    "version": 3
   },
   "file_extension": ".py",
   "mimetype": "text/x-python",
   "name": "python",
   "nbconvert_exporter": "python",
   "pygments_lexer": "ipython3",
   "version": "3.6.3"
  }
 },
 "nbformat": 4,
 "nbformat_minor": 2
}
