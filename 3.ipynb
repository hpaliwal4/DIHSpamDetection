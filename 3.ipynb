{
 "cells": [
  {
   "cell_type": "code",
   "execution_count": 2,
   "metadata": {},
   "outputs": [
    {
     "name": "stdout",
     "output_type": "stream",
     "text": [
      "AnandDa82055022\n",
      "76\n",
      "mdparmar9850\n",
      "560\n",
      "kamni_dasi\n",
      "1838\n",
      "KaniramR\n",
      "3\n",
      "RathodSewa\n",
      "187\n",
      "Aapka__Ankit\n",
      "2761\n",
      "sombhusare92605\n",
      "80\n",
      "chandel_dishu\n",
      "1154\n",
      "santoshDas2020\n",
      "10754\n",
      "sanjudas9502\n",
      "3125\n",
      "VikasKu97729064\n",
      "146\n",
      "ManjuDa46055060\n",
      "17\n",
      "Rakesh15339929\n",
      "13093\n",
      "dass_renu\n",
      "19408\n",
      "Seema70591859\n",
      "788\n",
      "RaviKum75576760\n",
      "189\n",
      "PkYesits\n",
      "71\n",
      "AnandRa67560291\n",
      "242\n",
      "13\n",
      "there was an error in id 836432782901526528\n",
      "there was an error in id 994739456887242757\n",
      "there was an error in id 990618723105980416\n",
      "5:21:25.471200\n"
     ]
    }
   ],
   "source": [
    "##I'm Importing the Original Spammers we have Collected\n",
    "\n",
    "import csv\n",
    "import tweepy\n",
    "##Manish\n",
    "auth = tweepy.OAuthHandler(\"IksdhdP56Gdm98JhJdkigTO8W\",\"epWSJNTWiOoQlakPRLo6aucWe3fcYPMzQd5EYhFqxpkJGpQqRg\")\n",
    "auth.set_access_token(\"843020357099540480-X3zfQI9j8xdXEjmf5rD8MM2NqmWt4uF\",\"9eXnnC0WD77JBVHO2zWBwAFxveD49tPseqsiggQgOLs4k\")\n",
    "\n",
    "api = tweepy.API(auth, wait_on_rate_limit=True)\n",
    "datafile = open('original_data.csv','r')\n",
    "csvreader = csv.reader(datafile)\n",
    "nodes = []\n",
    "followers = []\n",
    "followings = []\n",
    "for row in csvreader:\n",
    "    if row[0] != 'followings' and row[0] != 'followers':\n",
    "        print(row[0])\n",
    "        nodes.append(api.get_user(row[0]))\n",
    "    else:\n",
    "        if row[0] == 'followings':\n",
    "            followings.append(row[1:])\n",
    "        else:\n",
    "            followers.append(row[1:])\n",
    "            print(len(row[1:]))\n",
    "\n",
    "class Node:\n",
    "\t\n",
    "\tdef __init__(self,\n",
    "\t\t\t\tuser,\n",
    "\t\t\t\tparent_node,\n",
    "\t\t\t\tmain_node = 0,\n",
    "\t\t\t\tfollowers = None,\n",
    "\t\t\t\tfollowings = None,\n",
    "\t\t\t\tspammer = None):\n",
    "\t\t\n",
    "\n",
    "\t\tself.user = user\n",
    "\t\tself.username = user.screen_name\n",
    "\t\tself.followers_count = user.followers_count\n",
    "\t\tself.followings_count = user.friends_count\n",
    "\t\tself.status_count = user.statuses_count ## tweets and retweets count\n",
    "\t\tself.likes_count = user.favourites_count ## count of likes and favourites\n",
    "\t\tself.main_node = main_node ##tells us if this is the parent node or not\n",
    "\t\tself.followers = followers ##list containing ids of all followers\n",
    "\t\tself.followings = followings ##list containing ids of all followings\n",
    "\t\tself.parent_node = parent_node ##main_node from which it is derived\n",
    "\t\tself.spammer = main_node ## if its spammer or not || if it's main node is 1 then its a spammer\n",
    "\n",
    "\t\n",
    "\tdef ffratio(self):\n",
    "\t\treturn (self.user.friends_count)/(self.user.followers_count)\n",
    "\n",
    "\tdef __str__(self):\n",
    "\t\treturn self.username\n",
    "\n",
    "ratio = []\n",
    "for i in range(len(nodes)):\n",
    "    ratio.append(len(followings[i])/len(followers[i]))\n",
    "status_count = [] # tweets and Retweets Count\n",
    "for idx,one in enumerate(nodes):\n",
    "    status_count.append(one.statuses_count)\n",
    "all_instances = []\n",
    "\n",
    "for idx,node in enumerate(nodes):\n",
    "    user = Node(node,parent_node=node,main_node=1,followers=followers[idx],followings=followings[idx])\n",
    "    all_instances.append(user)\n",
    "\n",
    "from collections import defaultdict\n",
    "import datetime\n",
    "##making nodes for followers\n",
    "map_nodes = {}\n",
    "map_nodes = defaultdict(lambda: None, map_nodes)\n",
    "followers_instances = []\n",
    "for idx,node in enumerate(all_instances):\n",
    "    if idx==13:\n",
    "        print(idx)\n",
    "        time = datetime.datetime.now()\n",
    "        instance = []\n",
    "        for follower in followers[idx]:\n",
    "            try:\n",
    "                if map_nodes[follower] == None:\n",
    "                    user__ = api.get_user(follower)\n",
    "                    node = Node(user = user__,parent_node=node)\n",
    "                    map_nodes[follower] = [node]\n",
    "                    instance.append(node)\n",
    "                else:\n",
    "                    map_nodes[follower].append(node)\n",
    "            except tweepy.error.TweepError:\n",
    "                print(\"there was an error in id\",follower)\n",
    "                pass\n",
    "        print(datetime.datetime.now() - time)\n",
    "        followers_instances.append(instance)"
   ]
  },
  {
   "cell_type": "code",
   "execution_count": 1,
   "metadata": {},
   "outputs": [
    {
     "name": "stdout",
     "output_type": "stream",
     "text": [
      "ahostdotnet\n",
      "followers done ahostdotnet\n",
      "280\n",
      "0:02:50.574908\n",
      "Annm0\n",
      "followers done Annm0\n",
      "302\n",
      "0:03:04.371231\n",
      "TopReviewsToday\n",
      "followers done TopReviewsToday\n",
      "550\n"
     ]
    },
    {
     "name": "stderr",
     "output_type": "stream",
     "text": [
      "Rate limit reached. Sleeping for: 347\n"
     ]
    },
    {
     "name": "stdout",
     "output_type": "stream",
     "text": [
      "0:11:31.160755\n",
      "ahostnet\n",
      "followers done ahostnet\n",
      "291\n",
      "0:02:58.877974\n",
      "a3host\n",
      "followers done a3host\n",
      "374\n"
     ]
    },
    {
     "name": "stderr",
     "output_type": "stream",
     "text": [
      "Rate limit reached. Sleeping for: 344\n"
     ]
    },
    {
     "name": "stdout",
     "output_type": "stream",
     "text": [
      "0:09:40.896604\n",
      "EusebiaEledgePX\n",
      "followers done EusebiaEledgePX\n",
      "72\n",
      "0:00:45.229691\n",
      "Shanekagn33\n",
      "followers done Shanekagn33\n",
      "198\n",
      "0:02:05.468288\n",
      "Theresiawi97\n",
      "followers done Theresiawi97\n",
      "222\n",
      "0:02:19.261084\n",
      "ValedaChan\n",
      "followers done ValedaChan\n",
      "175\n",
      "0:01:49.239354\n",
      "activatedair\n",
      "followers done activatedair\n",
      "401\n"
     ]
    },
    {
     "name": "stderr",
     "output_type": "stream",
     "text": [
      "Rate limit reached. Sleeping for: 335\n"
     ]
    },
    {
     "name": "stdout",
     "output_type": "stream",
     "text": [
      "0:09:46.438625\n",
      "skincareline\n",
      "followers done skincareline\n",
      "533\n",
      "0:05:29.644704\n",
      "makereamone\n",
      "followers done makereamone\n",
      "386\n"
     ]
    },
    {
     "name": "stderr",
     "output_type": "stream",
     "text": [
      "Rate limit reached. Sleeping for: 343\n"
     ]
    },
    {
     "name": "stdout",
     "output_type": "stream",
     "text": [
      "0:09:45.938266\n",
      "hhairstyles\n",
      "followers done hhairstyles\n",
      "556\n",
      "0:05:29.433555\n",
      "AdriannaHun\n",
      "followers done AdriannaHun\n",
      "151\n"
     ]
    },
    {
     "name": "stderr",
     "output_type": "stream",
     "text": [
      "Rate limit reached. Sleeping for: 361\n"
     ]
    },
    {
     "name": "stdout",
     "output_type": "stream",
     "text": [
      "0:07:35.524886\n",
      "beautytip33\n",
      "followers done beautytip33\n",
      "613\n",
      "0:05:50.955847\n",
      "whealths\n",
      "followers done whealths\n",
      "472\n"
     ]
    },
    {
     "name": "stderr",
     "output_type": "stream",
     "text": [
      "Rate limit reached. Sleeping for: 382\n"
     ]
    },
    {
     "name": "stdout",
     "output_type": "stream",
     "text": [
      "0:11:03.712569\n",
      "JessieKilbourn\n",
      "followers done JessieKilbourn\n",
      "319\n",
      "0:03:13.480086\n",
      "tannings\n",
      "followers done tannings\n",
      "525\n"
     ]
    },
    {
     "name": "stderr",
     "output_type": "stream",
     "text": [
      "Rate limit reached. Sleeping for: 365\n"
     ]
    },
    {
     "name": "stdout",
     "output_type": "stream",
     "text": [
      "0:11:16.195234\n",
      "n18estea\n",
      "followers done n18estea\n",
      "494\n",
      "0:04:45.272761\n",
      "goang21\n",
      "followers done goang21\n",
      "409\n"
     ]
    },
    {
     "name": "stderr",
     "output_type": "stream",
     "text": [
      "Rate limit reached. Sleeping for: 380\n"
     ]
    },
    {
     "name": "stdout",
     "output_type": "stream",
     "text": [
      "0:10:25.122595\n"
     ]
    }
   ],
   "source": [
    "import csv\n",
    "import tweepy\n",
    "from datetime import datetime\n",
    "##Manish\n",
    "auth = tweepy.OAuthHandler(\"IksdhdP56Gdm98JhJdkigTO8W\",\"epWSJNTWiOoQlakPRLo6aucWe3fcYPMzQd5EYhFqxpkJGpQqRg\")\n",
    "auth.set_access_token(\"843020357099540480-X3zfQI9j8xdXEjmf5rD8MM2NqmWt4uF\",\"9eXnnC0WD77JBVHO2zWBwAFxveD49tPseqsiggQgOLs4k\")\n",
    "\n",
    "api = tweepy.API(auth, wait_on_rate_limit=True,wait_on_rate_limit_notify=True)\n",
    "attention_spam = ['ahostdotnet', 'Annm0', 'TopReviewsToday', 'ahostnet', 'a3host', \n",
    "                  'EusebiaEledgePX', 'Shanekagn33', 'Theresiawi97', 'ValedaChan', \n",
    "                  'activatedair', 'skincareline', 'makereamone', 'hhairstyles', 'AdriannaHun', \n",
    "                  'beautytip33', 'whealths', 'JessieKilbourn', 'tannings', 'n18estea', 'goang21']\n",
    "collect = {}\n",
    "for scrn_name in attention_spam:\n",
    "    user = api.get_user(scrn_name)\n",
    "    print(user.screen_name)\n",
    "    followers = []\n",
    "    collect[scrn_name] = {}\n",
    "    for page in tweepy.Cursor(api.followers_ids, screen_name=scrn_name).pages():\n",
    "        followers.extend(page)\n",
    "        print('followers done',scrn_name)\n",
    "        print(len(page))\n",
    "    t = datetime.now()\n",
    "    for follower in followers:\n",
    "        try:\n",
    "            user_ = api.get_user(follower)._json\n",
    "            collect[scrn_name][follower] = user_\n",
    "            result = 1\n",
    "        except tweepy.TweepError as e:\n",
    "            print('ding ding error id', follower)\n",
    "            time.sleep(30)\n",
    "            pass\n",
    "    print(datetime.now()-t)"
   ]
  },
  {
   "cell_type": "code",
   "execution_count": 2,
   "metadata": {},
   "outputs": [],
   "source": [
    "import json\n",
    "j = json.dumps(collect)\n",
    "f = open('data/json_data/level2_sitehosting_spam_3.json','w')\n",
    "f.write(j)\n",
    "f.close()"
   ]
  },
  {
   "cell_type": "code",
   "execution_count": null,
   "metadata": {},
   "outputs": [],
   "source": []
  }
 ],
 "metadata": {
  "kernelspec": {
   "display_name": "Python 3",
   "language": "python",
   "name": "python3"
  },
  "language_info": {
   "codemirror_mode": {
    "name": "ipython",
    "version": 3
   },
   "file_extension": ".py",
   "mimetype": "text/x-python",
   "name": "python",
   "nbconvert_exporter": "python",
   "pygments_lexer": "ipython3",
   "version": "3.6.3"
  }
 },
 "nbformat": 4,
 "nbformat_minor": 2
}
