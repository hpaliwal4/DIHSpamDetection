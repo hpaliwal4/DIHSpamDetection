{
 "cells": [
  {
   "cell_type": "code",
   "execution_count": 1,
   "metadata": {},
   "outputs": [
    {
     "name": "stdout",
     "output_type": "stream",
     "text": [
      "76\n",
      "560\n",
      "1838\n",
      "3\n",
      "187\n",
      "2761\n",
      "80\n",
      "1154\n",
      "10754\n",
      "3125\n",
      "146\n",
      "17\n",
      "13093\n",
      "19408\n",
      "788\n",
      "189\n",
      "71\n",
      "242\n",
      "14\n",
      "0:12:14.048726\n",
      "15\n",
      "0:03:14.277135\n",
      "16\n",
      "0:00:35.344691\n",
      "17\n",
      "0:03:07.400682\n"
     ]
    }
   ],
   "source": [
    "##I'm Importing the Original Spammers we have Collected\n",
    "\n",
    "import csv\n",
    "import tweepy\n",
    "##Karanveer\n",
    "auth = tweepy.OAuthHandler(\"mt0dAfVz5xDlbBRJEFPR846FW\",\"iTGuYyFank2ua2zsuv9LpA3BTvwieAA9Uz1la13WNozTWGayht\")\n",
    "auth.set_access_token(\"1497844536-1e9VN590bul7DMSZx7E1BET07CDAnmMhTGZ5Fyz\",\"v7ogAFm1tpJbm9kPUs4fNQvFqFm9ujtHCeKiSfvaLjFOz\")\n",
    "\n",
    "api = tweepy.API(auth, wait_on_rate_limit=True)\n",
    "datafile = open('original_data.csv','r')\n",
    "csvreader = csv.reader(datafile)\n",
    "nodes = []\n",
    "followers = []\n",
    "followings = []\n",
    "for row in csvreader:\n",
    "    if row[0] != 'followings' and row[0] != 'followers':\n",
    "        #print(row[0])\n",
    "        nodes.append(api.get_user(row[0]))\n",
    "    else:\n",
    "        if row[0] == 'followings':\n",
    "            followings.append(row[1:])\n",
    "        else:\n",
    "            followers.append(row[1:])\n",
    "            print(len(row[1:]))\n",
    "\n",
    "class Node:\n",
    "\t\n",
    "\tdef __init__(self,\n",
    "\t\t\t\tuser,\n",
    "\t\t\t\tparent_node,\n",
    "\t\t\t\tmain_node = 0,\n",
    "\t\t\t\tfollowers = None,\n",
    "\t\t\t\tfollowings = None,\n",
    "\t\t\t\tspammer = None):\n",
    "\t\t\n",
    "\n",
    "\t\tself.user = user\n",
    "\t\tself.username = user.screen_name\n",
    "\t\tself.followers_count = user.followers_count\n",
    "\t\tself.followings_count = user.friends_count\n",
    "\t\tself.status_count = user.statuses_count ## tweets and retweets count\n",
    "\t\tself.likes_count = user.favourites_count ## count of likes and favourites\n",
    "\t\tself.main_node = main_node ##tells us if this is the parent node or not\n",
    "\t\tself.followers = followers ##list containing ids of all followers\n",
    "\t\tself.followings = followings ##list containing ids of all followings\n",
    "\t\tself.parent_node = parent_node ##main_node from which it is derived\n",
    "\t\tself.spammer = main_node ## if its spammer or not || if it's main node is 1 then its a spammer\n",
    "\n",
    "\t\n",
    "\tdef ffratio(self):\n",
    "\t\treturn (self.user.friends_count)/(self.user.followers_count)\n",
    "\n",
    "\tdef __str__(self):\n",
    "\t\treturn self.username\n",
    "\n",
    "ratio = []\n",
    "for i in range(len(nodes)):\n",
    "    ratio.append(len(followings[i])/len(followers[i]))\n",
    "status_count = [] # tweets and Retweets Count\n",
    "for idx,one in enumerate(nodes):\n",
    "    status_count.append(one.statuses_count)\n",
    "all_instances = []\n",
    "\n",
    "for idx,node in enumerate(nodes):\n",
    "    user = Node(node,parent_node=node,main_node=1,followers=followers[idx],followings=followings[idx])\n",
    "    all_instances.append(user)\n",
    "\n",
    "from collections import defaultdict\n",
    "import datetime\n",
    "##making nodes for followers\n",
    "map_nodes = {}\n",
    "map_nodes = defaultdict(lambda: None, map_nodes)\n",
    "followers_instances = []\n",
    "for idx,node in enumerate(all_instances):\n",
    "    if idx>13:\n",
    "        print(idx)\n",
    "        time = datetime.datetime.now()\n",
    "        instance = []\n",
    "        for follower in followers[idx]:\n",
    "            if map_nodes[follower] == None:\n",
    "                user__ = api.get_user(follower)\n",
    "                node = Node(user = user__,parent_node=node)\n",
    "                map_nodes[follower] = [node]\n",
    "                instance.append(node)\n",
    "            else:\n",
    "                map_nodes[follower].append(node)\n",
    "        print(datetime.datetime.now() - time)\n",
    "        followers_instances.append(instance)"
   ]
  },
  {
   "cell_type": "code",
   "execution_count": 1,
   "metadata": {},
   "outputs": [
    {
     "name": "stdout",
     "output_type": "stream",
     "text": [
      "gracefacecare\n",
      "followers done gracefacecare\n",
      "381\n",
      "ding ding error id 340173331\n",
      "0:03:53.620228\n",
      "beautycaretrend\n",
      "followers done beautycaretrend\n",
      "564\n"
     ]
    },
    {
     "name": "stderr",
     "output_type": "stream",
     "text": [
      "Rate limit reached. Sleeping for: 342\n"
     ]
    },
    {
     "name": "stdout",
     "output_type": "stream",
     "text": [
      "0:11:37.945136\n",
      "ninabeautyskin\n",
      "followers done ninabeautyskin\n",
      "522\n",
      "ding ding error id 316288963\n",
      "ding ding error id 330926946\n",
      "0:05:22.235155\n",
      "Alma11982\n",
      "followers done Alma11982\n",
      "465\n"
     ]
    },
    {
     "name": "stderr",
     "output_type": "stream",
     "text": [
      "Rate limit reached. Sleeping for: 342\n"
     ]
    },
    {
     "name": "stdout",
     "output_type": "stream",
     "text": [
      "0:10:36.689991\n",
      "Nobuko8608\n",
      "followers done Nobuko8608\n",
      "213\n",
      "0:02:15.452646\n",
      "Qjopkjofkdf\n",
      "followers done Qjopkjofkdf\n",
      "79\n",
      "0:00:49.747483\n",
      "Lchshxxsdefsdf\n",
      "followers done Lchshxxsdefsdf\n",
      "75\n",
      "0:00:46.969272\n",
      "sahara283\n",
      "followers done sahara283\n",
      "261\n",
      "0:02:43.125905\n",
      "Pfuhduhfss\n",
      "followers done Pfuhduhfss\n",
      "53\n",
      "0:00:32.180649\n",
      "yrewerm\n",
      "followers done yrewerm\n",
      "510\n"
     ]
    },
    {
     "name": "stderr",
     "output_type": "stream",
     "text": [
      "Rate limit reached. Sleeping for: 333\n"
     ]
    },
    {
     "name": "stdout",
     "output_type": "stream",
     "text": [
      "0:10:53.712976\n",
      "olinawu\n",
      "followers done olinawu\n",
      "316\n",
      "0:03:15.621396\n",
      "Florentinakav\n",
      "followers done Florentinakav\n",
      "10\n",
      "0:00:06.221442\n"
     ]
    }
   ],
   "source": [
    "from datetime import datetime\n",
    "import csv\n",
    "import tweepy\n",
    "##Karanveer\n",
    "auth = tweepy.OAuthHandler(\"mt0dAfVz5xDlbBRJEFPR846FW\",\"iTGuYyFank2ua2zsuv9LpA3BTvwieAA9Uz1la13WNozTWGayht\")\n",
    "auth.set_access_token(\"1497844536-1e9VN590bul7DMSZx7E1BET07CDAnmMhTGZ5Fyz\",\"v7ogAFm1tpJbm9kPUs4fNQvFqFm9ujtHCeKiSfvaLjFOz\")\n",
    "\n",
    "api = tweepy.API(auth, wait_on_rate_limit=True,wait_on_rate_limit_notify=True)\n",
    "\n",
    "attention_spam = ['gracefacecare', 'beautycaretrend', 'ninabeautyskin', 'Alma11982', 'Nobuko8608', \n",
    "                  'Qjopkjofkdf', 'Lchshxxsdefsdf', 'sahara283', \n",
    "                  'Pfuhduhfss', 'yrewerm', 'olinawu', 'Florentinakav']\n",
    "collect = {}\n",
    "for scrn_name in attention_spam:\n",
    "    user = api.get_user(scrn_name)\n",
    "    print(user.screen_name)\n",
    "    followers = []\n",
    "    collect[scrn_name] = {}\n",
    "    for page in tweepy.Cursor(api.followers_ids, screen_name=scrn_name).pages():\n",
    "        followers.extend(page)\n",
    "        print('followers done',scrn_name)\n",
    "        print(len(page))\n",
    "    t = datetime.now()\n",
    "    for follower in followers:\n",
    "        try:\n",
    "            user_ = api.get_user(follower)._json\n",
    "            collect[scrn_name][follower] = user_\n",
    "            result = 1\n",
    "        except tweepy.TweepError as e:\n",
    "            print('ding ding error id', follower)\n",
    "            pass\n",
    "    print(datetime.now()-t)"
   ]
  },
  {
   "cell_type": "code",
   "execution_count": 2,
   "metadata": {},
   "outputs": [],
   "source": [
    "import json\n",
    "j = json.dumps(collect)\n",
    "f = open('data/json_data/level2_sitehosting_spam_4.json','w')\n",
    "f.write(j)\n",
    "f.close()"
   ]
  },
  {
   "cell_type": "code",
   "execution_count": null,
   "metadata": {},
   "outputs": [],
   "source": []
  }
 ],
 "metadata": {
  "kernelspec": {
   "display_name": "Python 3",
   "language": "python",
   "name": "python3"
  },
  "language_info": {
   "codemirror_mode": {
    "name": "ipython",
    "version": 3
   },
   "file_extension": ".py",
   "mimetype": "text/x-python",
   "name": "python",
   "nbconvert_exporter": "python",
   "pygments_lexer": "ipython3",
   "version": "3.6.5"
  }
 },
 "nbformat": 4,
 "nbformat_minor": 2
}
