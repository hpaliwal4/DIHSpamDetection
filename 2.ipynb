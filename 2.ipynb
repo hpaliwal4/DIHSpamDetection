{
 "cells": [
  {
   "cell_type": "code",
   "execution_count": 3,
   "metadata": {},
   "outputs": [
    {
     "name": "stdout",
     "output_type": "stream",
     "text": [
      "76\n",
      "560\n",
      "1838\n",
      "3\n",
      "187\n",
      "2761\n",
      "80\n",
      "1154\n",
      "10754\n",
      "3125\n",
      "146\n",
      "17\n",
      "13093\n",
      "19408\n",
      "788\n",
      "189\n",
      "71\n",
      "242\n",
      "9\n",
      "there was an error at id  2265734221\n",
      "there was an error at id  836432782901526528\n",
      "0:51:57.839360\n",
      "10\n",
      "0:01:19.502469\n",
      "11\n",
      "0:00:06.561771\n",
      "12\n",
      "there was an error at id  990618723105980416\n",
      "there was an error at id  952498937608351745\n",
      "3:05:02.878716\n"
     ]
    }
   ],
   "source": [
    "##I'm Importing the Original Spammers we have Collected\n",
    "\n",
    "import csv\n",
    "import tweepy\n",
    "##Harsh\n",
    "auth = tweepy.OAuthHandler(\"Rtje2CGsnPBCRPI2YJUTKzzZE\",\"48GsKiMx4EBibNa3AzjG8WbxKjISEv9kRL7RJ5MC0oTbDsHIjM\")\n",
    "auth.set_access_token(\"716788507977650178-O4jw6bewxVnesm1MEY8V5TkEnlfvzkL\",\"nythJV5Ap4OVv3A0IwVhhmzRraDCWoNcegbmEZ4TyAWtA\")\n",
    "\n",
    "api = tweepy.API(auth, wait_on_rate_limit=True)\n",
    "datafile = open('original_data.csv','r')\n",
    "csvreader = csv.reader(datafile)\n",
    "nodes = []\n",
    "followers = []\n",
    "followings = []\n",
    "for row in csvreader:\n",
    "    if row[0] != 'followings' and row[0] != 'followers':\n",
    "        #print(row[0])\n",
    "        nodes.append(api.get_user(row[0]))\n",
    "    else:\n",
    "        if row[0] == 'followings':\n",
    "            followings.append(row[1:])\n",
    "        else:\n",
    "            followers.append(row[1:])\n",
    "            print(len(row[1:]))\n",
    "\n",
    "class Node:\n",
    "\t\n",
    "\tdef __init__(self,\n",
    "\t\t\t\tuser,\n",
    "\t\t\t\tparent_node,\n",
    "\t\t\t\tmain_node = 0,\n",
    "\t\t\t\tfollowers = None,\n",
    "\t\t\t\tfollowings = None,\n",
    "\t\t\t\tspammer = None):\n",
    "\t\t\n",
    "\n",
    "\t\tself.user = user\n",
    "\t\tself.username = user.screen_name\n",
    "\t\tself.followers_count = user.followers_count\n",
    "\t\tself.followings_count = user.friends_count\n",
    "\t\tself.status_count = user.statuses_count ## tweets and retweets count\n",
    "\t\tself.likes_count = user.favourites_count ## count of likes and favourites\n",
    "\t\tself.main_node = main_node ##tells us if this is the parent node or not\n",
    "\t\tself.followers = followers ##list containing ids of all followers\n",
    "\t\tself.followings = followings ##list containing ids of all followings\n",
    "\t\tself.parent_node = parent_node ##main_node from which it is derived\n",
    "\t\tself.spammer = main_node ## if its spammer or not || if it's main node is 1 then its a spammer\n",
    "\n",
    "\t\n",
    "\tdef ffratio(self):\n",
    "\t\treturn (self.user.friends_count)/(self.user.followers_count)\n",
    "\n",
    "\tdef __str__(self):\n",
    "\t\treturn self.username\n",
    "\n",
    "ratio = []\n",
    "for i in range(len(nodes)):\n",
    "    ratio.append(len(followings[i])/len(followers[i]))\n",
    "status_count = [] # tweets and Retweets Count\n",
    "for idx,one in enumerate(nodes):\n",
    "    status_count.append(one.statuses_count)\n",
    "all_instances = []\n",
    "\n",
    "for idx,node in enumerate(nodes):\n",
    "    user = Node(node,parent_node=node,main_node=1,followers=followers[idx],followings=followings[idx])\n",
    "    all_instances.append(user)\n",
    "\n",
    "from collections import defaultdict\n",
    "import datetime\n",
    "##making nodes for followers\n",
    "map_nodes = {}\n",
    "map_nodes = defaultdict(lambda: None, map_nodes)\n",
    "followers_instances = []\n",
    "for idx,node in enumerate(all_instances):\n",
    "    if idx>=9 and idx<13:\n",
    "        print(idx)\n",
    "        time = datetime.datetime.now()\n",
    "        instance = []\n",
    "        for follower in followers[idx]:\n",
    "            try:\n",
    "                if map_nodes[follower] == None:\n",
    "                    user__ = api.get_user(follower)\n",
    "                    node = Node(user = user__,parent_node=node)\n",
    "                    map_nodes[follower] = [node]\n",
    "                    instance.append(node)\n",
    "                else:\n",
    "                    map_nodes[follower].append(node)\n",
    "            except tweepy.error.TweepError:\n",
    "                print(\"there was an error at id \",follower)\n",
    "                pass\n",
    "        print(datetime.datetime.now() - time)\n",
    "        followers_instances.append(instance)"
   ]
  },
  {
   "cell_type": "code",
   "execution_count": 2,
   "metadata": {},
   "outputs": [
    {
     "name": "stdout",
     "output_type": "stream",
     "text": [
      "candytzfrick\n",
      "followers done candytzfrick\n",
      "1029\n"
     ]
    },
    {
     "name": "stderr",
     "output_type": "stream",
     "text": [
      "Rate limit reached. Sleeping for: 310\n"
     ]
    },
    {
     "name": "stdout",
     "output_type": "stream",
     "text": [
      "0:15:51.321040\n",
      "Kdfgvduhs\n",
      "followers done Kdfgvduhs\n",
      "60\n",
      "0:00:37.205215\n",
      "FMfirst\n",
      "followers done FMfirst\n",
      "225\n",
      "0:02:18.241495\n",
      "Afytvuvugi\n",
      "followers done Afytvuvugi\n",
      "61\n",
      "0:00:37.379248\n",
      "ChaeDechico3274\n",
      "followers done ChaeDechico3274\n",
      "1411\n"
     ]
    },
    {
     "name": "stderr",
     "output_type": "stream",
     "text": [
      "Rate limit reached. Sleeping for: 341\n",
      "Rate limit reached. Sleeping for: 334\n"
     ]
    },
    {
     "name": "stdout",
     "output_type": "stream",
     "text": [
      "0:26:09.378756\n",
      "ExtremeCouponCA\n",
      "followers done ExtremeCouponCA\n",
      "1263\n"
     ]
    },
    {
     "name": "stderr",
     "output_type": "stream",
     "text": [
      "Rate limit reached. Sleeping for: 337\n"
     ]
    },
    {
     "name": "stdout",
     "output_type": "stream",
     "text": [
      "0:18:44.232103\n",
      "yasmin6817\n",
      "followers done yasmin6817\n",
      "307\n",
      "0:03:01.947315\n",
      "d3517\n",
      "followers done d3517\n",
      "167\n"
     ]
    },
    {
     "name": "stderr",
     "output_type": "stream",
     "text": [
      "Rate limit reached. Sleeping for: 360\n"
     ]
    },
    {
     "name": "stdout",
     "output_type": "stream",
     "text": [
      "0:07:43.171581\n",
      "g481o\n",
      "followers done g481o\n",
      "66\n",
      "0:00:37.918627\n",
      "Ahukhkm\n",
      "followers done Ahukhkm\n",
      "87\n",
      "0:00:49.841278\n",
      "JoomlaMambo\n",
      "followers done JoomlaMambo\n",
      "668\n",
      "0:06:20.549762\n",
      "Aouiajsdd\n",
      "followers done Aouiajsdd\n",
      "345\n"
     ]
    },
    {
     "name": "stderr",
     "output_type": "stream",
     "text": [
      "Rate limit reached. Sleeping for: 384\n"
     ]
    },
    {
     "name": "stdout",
     "output_type": "stream",
     "text": [
      "0:09:56.384071\n",
      "10_spot\n",
      "followers done 10_spot\n",
      "236\n",
      "0:02:21.973983\n",
      "roseestar\n",
      "followers done roseestar\n",
      "530\n"
     ]
    },
    {
     "name": "stderr",
     "output_type": "stream",
     "text": [
      "Rate limit reached. Sleeping for: 363\n"
     ]
    },
    {
     "name": "stdout",
     "output_type": "stream",
     "text": [
      "0:11:16.473429\n",
      "vertexcoders\n",
      "followers done vertexcoders\n",
      "455\n",
      "0:04:22.963657\n",
      "GianniRapod\n",
      "followers done GianniRapod\n",
      "341\n"
     ]
    },
    {
     "name": "stderr",
     "output_type": "stream",
     "text": [
      "Rate limit reached. Sleeping for: 379\n"
     ]
    },
    {
     "name": "stdout",
     "output_type": "stream",
     "text": [
      "0:09:43.709191\n"
     ]
    }
   ],
   "source": [
    "import csv\n",
    "import tweepy\n",
    "from datetime import datetime\n",
    "##Harsh\n",
    "auth = tweepy.OAuthHandler(\"Rtje2CGsnPBCRPI2YJUTKzzZE\",\"48GsKiMx4EBibNa3AzjG8WbxKjISEv9kRL7RJ5MC0oTbDsHIjM\")\n",
    "auth.set_access_token(\"716788507977650178-O4jw6bewxVnesm1MEY8V5TkEnlfvzkL\",\"nythJV5Ap4OVv3A0IwVhhmzRraDCWoNcegbmEZ4TyAWtA\")\n",
    "\n",
    "api = tweepy.API(auth, wait_on_rate_limit=True,wait_on_rate_limit_notify=True)\n",
    "attention_spam = ['candytzfrick', \n",
    "                  'Kdfgvduhs', \n",
    "                  'FMfirst', \n",
    "                  'Afytvuvugi', \n",
    "                  'ChaeDechico3274', \n",
    "                  'ExtremeCouponCA', \n",
    "                  'yasmin6817', \n",
    "                  'd3517', \n",
    "                  'g481o', \n",
    "                  'Ahukhkm', \n",
    "                  'JoomlaMambo', \n",
    "                  'Aouiajsdd', \n",
    "                  '10_spot', \n",
    "                  'roseestar', \n",
    "                  'vertexcoders', \n",
    "                  'GianniRapod']\n",
    "collect = {}\n",
    "for scrn_name in attention_spam:\n",
    "    user = api.get_user(scrn_name)\n",
    "    print(user.screen_name)\n",
    "    followers = []\n",
    "    collect[scrn_name] = {}\n",
    "    for page in tweepy.Cursor(api.followers_ids, screen_name=scrn_name).pages():\n",
    "        followers.extend(page)\n",
    "        print('followers done',scrn_name)\n",
    "        print(len(page))\n",
    "    t = datetime.now()\n",
    "    for follower in followers:\n",
    "        try:\n",
    "            user_ = api.get_user(follower)._json\n",
    "            collect[scrn_name][follower] = user_\n",
    "            result = 1\n",
    "        except tweepy.TweepError as e:\n",
    "            print('ding ding error id', follower)\n",
    "            time.sleep(30)\n",
    "            pass\n",
    "    print(datetime.now()-t)"
   ]
  },
  {
   "cell_type": "code",
   "execution_count": 3,
   "metadata": {},
   "outputs": [],
   "source": [
    "import json\n",
    "j = json.dumps(collect)\n",
    "f = open('data/json_data/level2_sitehosting_spam_2.json','w')\n",
    "f.write(j)\n",
    "f.close()"
   ]
  },
  {
   "cell_type": "code",
   "execution_count": null,
   "metadata": {},
   "outputs": [],
   "source": []
  }
 ],
 "metadata": {
  "kernelspec": {
   "display_name": "Python 3",
   "language": "python",
   "name": "python3"
  },
  "language_info": {
   "codemirror_mode": {
    "name": "ipython",
    "version": 3
   },
   "file_extension": ".py",
   "mimetype": "text/x-python",
   "name": "python",
   "nbconvert_exporter": "python",
   "pygments_lexer": "ipython3",
   "version": "3.6.3"
  }
 },
 "nbformat": 4,
 "nbformat_minor": 2
}
