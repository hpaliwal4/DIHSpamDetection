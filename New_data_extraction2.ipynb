{
 "cells": [
  {
   "cell_type": "code",
   "execution_count": 4,
   "metadata": {},
   "outputs": [
    {
     "name": "stdout",
     "output_type": "stream",
     "text": [
      "EXbot5\n",
      "followings done EXbot5\n",
      "1987\n",
      "followers done EXbot5\n",
      "1648\n",
      "EXBot_Gundam\n",
      "followings done EXBot_Gundam\n",
      "420\n",
      "followers done EXBot_Gundam\n",
      "327\n",
      "TAKAHIRO_EXbot\n",
      "followings done TAKAHIRO_EXbot\n",
      "1891\n",
      "followers done TAKAHIRO_EXbot\n",
      "5000\n",
      "followers done TAKAHIRO_EXbot\n",
      "5000\n",
      "followers done TAKAHIRO_EXbot\n",
      "5000\n",
      "followers done TAKAHIRO_EXbot\n",
      "5000\n",
      "followers done TAKAHIRO_EXbot\n",
      "3128\n",
      "mettaton_ohhh\n",
      "followings done mettaton_ohhh\n",
      "179\n",
      "followers done mettaton_ohhh\n",
      "178\n",
      "GundamEXA_bot\n",
      "followings done GundamEXA_bot\n",
      "172\n",
      "followers done GundamEXA_bot\n",
      "128\n"
     ]
    }
   ],
   "source": [
    "import csv\n",
    "import time\n",
    "import tweepy\n",
    "##Manish\n",
    "auth = tweepy.OAuthHandler(\"IksdhdP56Gdm98JhJdkigTO8W\",\"epWSJNTWiOoQlakPRLo6aucWe3fcYPMzQd5EYhFqxpkJGpQqRg\")\n",
    "auth.set_access_token(\"843020357099540480-X3zfQI9j8xdXEjmf5rD8MM2NqmWt4uF\",\"9eXnnC0WD77JBVHO2zWBwAFxveD49tPseqsiggQgOLs4k\")\n",
    "api = tweepy.API(auth)\n",
    "##all are bots\n",
    "spam_strs=['EXbot5',\n",
    "           'EXBot_Gundam',\n",
    "           'TAKAHIRO_EXbot',\n",
    "           'mettaton_ohhh',\n",
    "           'GundamEXA_bot'\n",
    "          ]\n",
    "\n",
    "\n",
    "followings = {}\n",
    "followers = {}\n",
    "for scrn_name in spam_strs:\n",
    "    user = api.get_user(scrn_name)\n",
    "    print(user.screen_name)\n",
    "    followings[scrn_name] = []\n",
    "    for page in tweepy.Cursor(api.friends_ids, screen_name=scrn_name).pages():\n",
    "        followings[scrn_name].extend(page)\n",
    "        time.sleep(60)\n",
    "        print('followings done',scrn_name)\n",
    "        print(len(page))\n",
    "    \n",
    "    followers[scrn_name] = []\n",
    "    for page in tweepy.Cursor(api.followers_ids, screen_name=scrn_name).pages():\n",
    "        followers[scrn_name].extend(page)\n",
    "        time.sleep(60)\n",
    "        print('followers done',scrn_name)\n",
    "        print(len(page))"
   ]
  },
  {
   "cell_type": "code",
   "execution_count": 5,
   "metadata": {},
   "outputs": [],
   "source": [
    "import json\n",
    "j = json.dumps(followings)\n",
    "f = open('pickle_data/botspam_followings.json','w')\n",
    "f.write(j)\n",
    "f.close()\n",
    "j = json.dumps(followers)\n",
    "f = open('pickle_data/botspam_followers.json','w')\n",
    "f.write(j)\n",
    "f.close()"
   ]
  },
  {
   "cell_type": "code",
   "execution_count": 3,
   "metadata": {},
   "outputs": [],
   "source": [
    "import csv\n",
    "import time\n",
    "import tweepy\n",
    "##manish twitter key\n",
    "\n",
    "auth = tweepy.OAuthHandler(\"IksdhdP56Gdm98JhJdkigTO8W\",\"epWSJNTWiOoQlakPRLo6aucWe3fcYPMzQd5EYhFqxpkJGpQqRg\")\n",
    "auth.set_access_token(\"843020357099540480-X3zfQI9j8xdXEjmf5rD8MM2NqmWt4uF\",\"9eXnnC0WD77JBVHO2zWBwAFxveD49tPseqsiggQgOLs4k\")\n",
    "\n",
    "api = tweepy.API(auth, wait_on_rate_limit=True)\n",
    "import json\n",
    "f = open('data/json_data/botspam_followings.json','r')\n",
    "followings = json.load(f)\n",
    "f.close()\n",
    "f = open('data/json_data/botspam_followers.json','r')\n",
    "followers = json.load(f)\n",
    "f.close()"
   ]
  },
  {
   "cell_type": "code",
   "execution_count": 4,
   "metadata": {},
   "outputs": [
    {
     "name": "stdout",
     "output_type": "stream",
     "text": [
      "EXbot5\n",
      "0:30:04.195975\n",
      "EXBot_Gundam\n",
      "0:04:30.671093\n",
      "TAKAHIRO_EXbot\n",
      "there was an error at id  773239316\n",
      "there was an error at id  2177099676\n",
      "there was an error at id  2251545248\n",
      "there was an error at id  406867658\n",
      "there was an error at id  609828852\n",
      "there was an error at id  440761502\n",
      "6:23:31.269682\n",
      "mettaton_ohhh\n",
      "there was an error at id  987237143104794624\n",
      "0:01:58.012925\n",
      "GundamEXA_bot\n",
      "0:01:24.924285\n"
     ]
    }
   ],
   "source": [
    "import datetime\n",
    "followers_instances = {}\n",
    "\n",
    "for key in followers:\n",
    "    value = followers[key]\n",
    "    followers_instances[key] = {}\n",
    "    print(key)\n",
    "    time = datetime.datetime.now()\n",
    "    for follower in value:\n",
    "        try:\n",
    "            followers_instances[key][follower] = api.get_user(follower)._json\n",
    "        except tweepy.error.TweepError:\n",
    "            print(\"there was an error at id \",follower)\n",
    "            pass\n",
    "    print(datetime.datetime.now()-time)"
   ]
  },
  {
   "cell_type": "code",
   "execution_count": 5,
   "metadata": {},
   "outputs": [],
   "source": [
    "j = json.dumps(followers_instances)\n",
    "f = open('data/json_data/botspam_followers_instances.json','w')\n",
    "f.write(j)\n",
    "f.close()"
   ]
  },
  {
   "cell_type": "code",
   "execution_count": null,
   "metadata": {},
   "outputs": [],
   "source": []
  }
 ],
 "metadata": {
  "kernelspec": {
   "display_name": "Python 3",
   "language": "python",
   "name": "python3"
  },
  "language_info": {
   "codemirror_mode": {
    "name": "ipython",
    "version": 3
   },
   "file_extension": ".py",
   "mimetype": "text/x-python",
   "name": "python",
   "nbconvert_exporter": "python",
   "pygments_lexer": "ipython3",
   "version": "3.6.3"
  }
 },
 "nbformat": 4,
 "nbformat_minor": 2
}
