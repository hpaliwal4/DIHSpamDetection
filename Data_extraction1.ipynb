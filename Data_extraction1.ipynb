{
 "cells": [
  {
   "cell_type": "code",
   "execution_count": 1,
   "metadata": {},
   "outputs": [
    {
     "name": "stdout",
     "output_type": "stream",
     "text": [
      "TGJNOgSsEPPN2KC\n",
      "followers done TGJNOgSsEPPN2KC\n",
      "2\n",
      "kuu_cat\n",
      "followings done kuu_cat\n",
      "500\n",
      "followers done kuu_cat\n",
      "395\n",
      "therunnner\n",
      "followings done therunnner\n",
      "490\n",
      "followers done therunnner\n",
      "451\n",
      "PGLists\n",
      "followings done PGLists\n",
      "2\n",
      "followers done PGLists\n",
      "70\n",
      "EdaEjewcj2018\n",
      "mariluon\n",
      "followings done mariluon\n",
      "536\n",
      "followers done mariluon\n",
      "59\n",
      "yanailinova\n",
      "followings done yanailinova\n",
      "316\n",
      "followers done yanailinova\n",
      "3\n",
      "a_logo\n",
      "followings done a_logo\n",
      "1\n",
      "followers done a_logo\n",
      "1\n",
      "anokonda30\n",
      "followings done anokonda30\n",
      "12\n",
      "followers done anokonda30\n",
      "1\n",
      "uwasa13\n",
      "followers done uwasa13\n",
      "71\n"
     ]
    }
   ],
   "source": [
    "import csv\n",
    "import time\n",
    "import tweepy\n",
    "##Harsh\n",
    "auth = tweepy.OAuthHandler(\"Rtje2CGsnPBCRPI2YJUTKzzZE\",\"48GsKiMx4EBibNa3AzjG8WbxKjISEv9kRL7RJ5MC0oTbDsHIjM\")\n",
    "auth.set_access_token(\"716788507977650178-O4jw6bewxVnesm1MEY8V5TkEnlfvzkL\",\"nythJV5Ap4OVv3A0IwVhhmzRraDCWoNcegbmEZ4TyAWtA\")\n",
    "\n",
    "api = tweepy.API(auth)\n",
    "spam_strs=['TGJNOgSsEPPN2KC',\n",
    "           'kuu_cat', ##Bot\n",
    "           'therunnner', ##Bot\n",
    "           'PGLists', ## Advertisement type\n",
    "           'EdaEjewcj2018',\n",
    "           'mariluon',\n",
    "           'yanailinova',\n",
    "           'a_logo', ##2013\n",
    "           'anokonda30', ##2013\n",
    "           'uwasa13' ##Bot\n",
    "          ]\n",
    "\n",
    "\n",
    "followings = {}\n",
    "followers = {}\n",
    "for scrn_name in spam_strs:\n",
    "    user = api.get_user(scrn_name)\n",
    "    print(user.screen_name)\n",
    "    followings[scrn_name] = []\n",
    "    for page in tweepy.Cursor(api.friends_ids, screen_name=scrn_name).pages():\n",
    "        followings[scrn_name].extend(page)\n",
    "        time.sleep(60)\n",
    "        print('followings done',scrn_name)\n",
    "        print(len(page))\n",
    "    \n",
    "    followers[scrn_name] = []\n",
    "    for page in tweepy.Cursor(api.followers_ids, screen_name=scrn_name).pages():\n",
    "        followers[scrn_name].extend(page)\n",
    "        time.sleep(60)\n",
    "        print('followers done',scrn_name)\n",
    "        print(len(page))"
   ]
  },
  {
   "cell_type": "code",
   "execution_count": 2,
   "metadata": {},
   "outputs": [],
   "source": [
    "import json\n",
    "j = json.dumps(followings)\n",
    "f = open('pickle_data/spam_followings.json','w')\n",
    "f.write(j)\n",
    "f.close()\n",
    "j = json.dumps(followers)\n",
    "f = open('pickle_data/spam_followers.json','w')\n",
    "f.write(j)\n",
    "f.close()"
   ]
  },
  {
   "cell_type": "code",
   "execution_count": 3,
   "metadata": {},
   "outputs": [],
   "source": [
    "import csv\n",
    "import time\n",
    "import tweepy\n",
    "##Harsh\n",
    "auth = tweepy.OAuthHandler(\"Rtje2CGsnPBCRPI2YJUTKzzZE\",\"48GsKiMx4EBibNa3AzjG8WbxKjISEv9kRL7RJ5MC0oTbDsHIjM\")\n",
    "auth.set_access_token(\"716788507977650178-O4jw6bewxVnesm1MEY8V5TkEnlfvzkL\",\"nythJV5Ap4OVv3A0IwVhhmzRraDCWoNcegbmEZ4TyAWtA\")\n",
    "api = tweepy.API(auth, wait_on_rate_limit=True)\n",
    "import json\n",
    "f = open('data/json_data/spam_followings.json','r')\n",
    "followings = json.load(f)\n",
    "f.close()\n",
    "f = open('data/json_data/spam_followers.json','r')\n",
    "followers = json.load(f)\n",
    "f.close()"
   ]
  },
  {
   "cell_type": "code",
   "execution_count": 4,
   "metadata": {},
   "outputs": [
    {
     "name": "stdout",
     "output_type": "stream",
     "text": [
      "TGJNOgSsEPPN2KC\n",
      "0:00:01.163753\n",
      "kuu_cat\n",
      "0:05:04.851515\n",
      "therunnner\n",
      "0:10:42.818017\n",
      "PGLists\n",
      "0:01:15.016950\n",
      "EdaEjewcj2018\n",
      "0:00:00.000003\n",
      "mariluon\n",
      "0:01:05.806232\n",
      "yanailinova\n",
      "0:00:03.247457\n",
      "a_logo\n",
      "0:00:01.044512\n",
      "anokonda30\n",
      "0:00:01.054703\n",
      "uwasa13\n",
      "0:01:21.106087\n"
     ]
    }
   ],
   "source": [
    "import datetime\n",
    "followers_instances = {}\n",
    "\n",
    "for key in followers:\n",
    "    value = followers[key]\n",
    "    followers_instances[key] = {}\n",
    "    print(key)\n",
    "    time = datetime.datetime.now()\n",
    "    for follower in value:\n",
    "        try:\n",
    "            followers_instances[key][follower] = api.get_user(follower)._json\n",
    "        except tweepy.error.TweepError:\n",
    "            print(\"there was an error at id \",follower)\n",
    "            pass\n",
    "    print(datetime.datetime.now()-time)"
   ]
  },
  {
   "cell_type": "code",
   "execution_count": 5,
   "metadata": {},
   "outputs": [],
   "source": [
    "j = json.dumps(followers_instances)\n",
    "f = open('data/json_data/spam_followers_instances.json','w')\n",
    "f.write(j)\n",
    "f.close()"
   ]
  },
  {
   "cell_type": "code",
   "execution_count": null,
   "metadata": {},
   "outputs": [],
   "source": []
  }
 ],
 "metadata": {
  "kernelspec": {
   "display_name": "Python 3",
   "language": "python",
   "name": "python3"
  },
  "language_info": {
   "codemirror_mode": {
    "name": "ipython",
    "version": 3
   },
   "file_extension": ".py",
   "mimetype": "text/x-python",
   "name": "python",
   "nbconvert_exporter": "python",
   "pygments_lexer": "ipython3",
   "version": "3.6.5"
  }
 },
 "nbformat": 4,
 "nbformat_minor": 2
}
